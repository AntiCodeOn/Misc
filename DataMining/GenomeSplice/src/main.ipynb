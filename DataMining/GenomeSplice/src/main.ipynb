{
 "cells": [
  {
   "cell_type": "markdown",
   "metadata": {},
   "source": [
    "First import necessary packages"
   ]
  },
  {
   "cell_type": "code",
   "execution_count": 49,
   "metadata": {
    "collapsed": true
   },
   "outputs": [],
   "source": [
    "import pandas as pd\n",
    "import numpy as np"
   ]
  },
  {
   "cell_type": "code",
   "execution_count": 12,
   "metadata": {
    "collapsed": true
   },
   "outputs": [],
   "source": [
    "def splice_from_file(filename):\n",
    "    \"\"\"\n",
    "    Load the genome splice dataset to pandas DataFrame\n",
    "    \"\"\"\n",
    "    df = pd.read_csv(filename)\n",
    "    return df"
   ]
  },
  {
   "cell_type": "code",
   "execution_count": 200,
   "metadata": {
    "collapsed": true
   },
   "outputs": [],
   "source": [
    "def split_features(data):\n",
    "    #data contains columns class, id and dna\n",
    "    X = data\n",
    "    #split nucleotid string (len=60) into a list of independent characters (DNA nucleotids)\n",
    "    X['dna'] = X['dna'].map(lambda x : list(str(x).strip()))\n",
    "    #create 60 new attributes (columns) for each DNA nucleotide index\n",
    "    #each attribute has name dna_idx where idx is index (1-based) in the list above\n",
    "    for idx in range(60):\n",
    "        X['dna_%d' % (idx+1)] = X['dna'].map(lambda x : x[idx])\n",
    "    #remove the old dna column (redundant information)\n",
    "    del X['dna']\n",
    "    #remove descriptor\n",
    "    del X['id']\n",
    "    \n",
    "    return X"
   ]
  },
  {
   "cell_type": "code",
   "execution_count": 201,
   "metadata": {
    "collapsed": true
   },
   "outputs": [],
   "source": [
    "def get_splice_data():\n",
    "    \"\"\"\n",
    "    Load the genome splice dataset, split it into X and y, and then call the label encoder\n",
    "    to get an integer y column\n",
    "    \"\"\"\n",
    "    \n",
    "    df = pd.read_csv('splice.csv')\n",
    "    #exclude class column to create X dataframe\n",
    "    X = split_features(df)\n",
    "    X.to_csv(\"splice_indexed.csv\", index=False)\n",
    "    X = df.drop(columns='class')\n",
    "    #print(X.values)\n",
    "    #dv = feature_extraction.DictVectorizer(sparse=False)\n",
    "    #dv.fit(X)\n",
    "    print(pd.get_dummies(X))\n",
    "\n",
    "    \n",
    "    y = df.reindex(columns=['class'])\n",
    "    #print(y.values.reshape(-1,))\n",
    "    y = preprocessing.LabelEncoder().fit_transform(y.values.reshape(-1,))\n",
    "    \n",
    "    print(y)\n",
    "    \n",
    "    return X,y"
   ]
  },
  {
   "cell_type": "code",
   "execution_count": 202,
   "metadata": {},
   "outputs": [],
   "source": [
    "def separate_feature_class(data):\n",
    "    y = data.reindex(columns=['class'])\n",
    "    X = data.drop(columns='class')\n",
    "    return X,y"
   ]
  },
  {
   "cell_type": "code",
   "execution_count": 203,
   "metadata": {
    "collapsed": true
   },
   "outputs": [],
   "source": [
    "def count_unique_percent(df):\n",
    "    \"\"\"returns fractions of the unique values in the dataset\"\"\"\n",
    "    #flatten DataFrame to one dimensional array and convert it to Series object\n",
    "    series = pd.Series(df.as_matrix().reshape(-1))\n",
    "    #count unique values percentage\n",
    "    series.value_counts()\n",
    "    unique_counts_pct = series.value_counts(normalize=False)\n",
    "    return unique_counts_pct\n",
    "\n",
    "def get_odd_nucleotide_rows(df):\n",
    "    \"\"\"creates dictionary of rows containing odd (non ATCG nucleotide)\n",
    "       key - non ATCG nucleotide\n",
    "       value - list of rows containing non ATCG nucleotide\n",
    "    \"\"\"\n",
    "    \n",
    "    odd_dict = {}\n",
    "    odd_dict['N'] = df[df == 'N'].dropna(how='all').index.values.reshape(-1)\n",
    "    odd_dict['R'] = df[df == 'R'].dropna(how='all').index.values.reshape(-1)\n",
    "    odd_dict['S'] = df[df == 'S'].dropna(how='all').index.values.reshape(-1)\n",
    "    odd_dict['D'] = df[df == 'D'].dropna(how='all').index.values.reshape(-1)\n",
    "    return odd_dict\n",
    "\n",
    "def remove_odd_nucleotide_rows(df, odd_rows_dict):\n",
    "    #concat dictionary values\n",
    "    to_remove_idx = np.concatenate(list(odd_rows_dict.values()))\n",
    "    return df.drop(index = to_remove_idx.tolist())"
   ]
  },
  {
   "cell_type": "code",
   "execution_count": 204,
   "metadata": {},
   "outputs": [
    {
     "name": "stdout",
     "output_type": "stream",
     "text": [
      "<class 'pandas.core.frame.DataFrame'>\n",
      "RangeIndex: 3189 entries, 0 to 3188\n",
      "Data columns (total 3 columns):\n",
      "class    3189 non-null object\n",
      "id       3189 non-null object\n",
      "dna      3189 non-null object\n",
      "dtypes: object(3)\n",
      "memory usage: 74.8+ KB\n"
     ]
    }
   ],
   "source": [
    "df = splice_from_file(\"data/splice_orig.csv\")\n",
    "df.columns = ['class', 'id', 'dna']\n",
    "\n",
    "df.info()\n",
    "df_split = split_features(df)\n"
   ]
  },
  {
   "cell_type": "code",
   "execution_count": 205,
   "metadata": {},
   "outputs": [
    {
     "data": {
      "text/plain": [
       "C    50281\n",
       "G    50226\n",
       "T    46298\n",
       "A    44475\n",
       "N       56\n",
       "D        2\n",
       "S        1\n",
       "R        1\n",
       "dtype: int64"
      ]
     },
     "execution_count": 205,
     "metadata": {},
     "output_type": "execute_result"
    }
   ],
   "source": [
    "df_split_X, df_split_y = separate_feature_class(df_split)\n",
    "count_unique_percent(df_split_X)\n",
    "\n"
   ]
  },
  {
   "cell_type": "code",
   "execution_count": 206,
   "metadata": {},
   "outputs": [],
   "source": [
    "odd_rows_dict = get_odd_nucleotide_rows(df_split_X)\n",
    "df_filt_X = remove_odd_nucleotide_rows(df_split_X, odd_rows_dict)\n",
    "df_filt_y = remove_odd_nucleotide_rows(df_split_y, odd_rows_dict)"
   ]
  },
  {
   "cell_type": "code",
   "execution_count": 194,
   "metadata": {},
   "outputs": [],
   "source": []
  },
  {
   "cell_type": "code",
   "execution_count": null,
   "metadata": {
    "collapsed": true
   },
   "outputs": [],
   "source": []
  },
  {
   "cell_type": "code",
   "execution_count": null,
   "metadata": {
    "collapsed": true
   },
   "outputs": [],
   "source": []
  }
 ],
 "metadata": {
  "kernelspec": {
   "display_name": "Python 3",
   "language": "python",
   "name": "python3"
  },
  "language_info": {
   "codemirror_mode": {
    "name": "ipython",
    "version": 3
   },
   "file_extension": ".py",
   "mimetype": "text/x-python",
   "name": "python",
   "nbconvert_exporter": "python",
   "pygments_lexer": "ipython3",
   "version": "3.5.2"
  }
 },
 "nbformat": 4,
 "nbformat_minor": 2
}
