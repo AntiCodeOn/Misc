{
 "cells": [
  {
   "cell_type": "markdown",
   "metadata": {},
   "source": [
    "First import necessary packages"
   ]
  },
  {
   "cell_type": "code",
   "execution_count": 98,
   "metadata": {
    "collapsed": true
   },
   "outputs": [],
   "source": [
    "import pandas as pd\n",
    "import numpy as np\n",
    "import matplotlib.pyplot as plt"
   ]
  },
  {
   "cell_type": "code",
   "execution_count": 31,
   "metadata": {
    "collapsed": true
   },
   "outputs": [],
   "source": [
    "def splice_from_file(filename):\n",
    "    \"\"\"\n",
    "    Load the genome splice dataset to pandas DataFrame\n",
    "    \"\"\"\n",
    "    df = pd.read_csv(filename)\n",
    "    return df"
   ]
  },
  {
   "cell_type": "code",
   "execution_count": 32,
   "metadata": {
    "collapsed": true
   },
   "outputs": [],
   "source": [
    "def split_features(data):\n",
    "    #data contains columns class, id and dna\n",
    "    X = data\n",
    "    #split nucleotid string (len=60) into a list of independent characters (DNA nucleotids)\n",
    "    X['dna'] = X['dna'].map(lambda x : list(str(x).strip()))\n",
    "    #create 60 new attributes (columns) for each DNA nucleotide index\n",
    "    #each attribute has name dna_idx where idx is index (1-based) in the list above\n",
    "    for idx in range(60):\n",
    "        X['dna_%d' % (idx+1)] = X['dna'].map(lambda x : x[idx])\n",
    "    #remove the old dna column (redundant information)\n",
    "    del X['dna']\n",
    "    #remove descriptor\n",
    "    del X['id']\n",
    "    \n",
    "    return X"
   ]
  },
  {
   "cell_type": "code",
   "execution_count": 33,
   "metadata": {
    "collapsed": true
   },
   "outputs": [],
   "source": [
    "def get_splice_data():\n",
    "    \"\"\"\n",
    "    Load the genome splice dataset, split it into X and y, and then call the label encoder\n",
    "    to get an integer y column\n",
    "    \"\"\"\n",
    "    \n",
    "    df = pd.read_csv('splice.csv')\n",
    "    #exclude class column to create X dataframe\n",
    "    X = split_features(df)\n",
    "    X.to_csv(\"splice_indexed.csv\", index=False)\n",
    "    X = df.drop(columns='class')\n",
    "    #print(X.values)\n",
    "    #dv = feature_extraction.DictVectorizer(sparse=False)\n",
    "    #dv.fit(X)\n",
    "    print(pd.get_dummies(X))\n",
    "\n",
    "    \n",
    "    y = df.reindex(columns=['class'])\n",
    "    #print(y.values.reshape(-1,))\n",
    "    y = preprocessing.LabelEncoder().fit_transform(y.values.reshape(-1,))\n",
    "    \n",
    "    print(y)\n",
    "    \n",
    "    return X,y"
   ]
  },
  {
   "cell_type": "code",
   "execution_count": 34,
   "metadata": {
    "collapsed": true
   },
   "outputs": [],
   "source": [
    "def separate_feature_class(data):\n",
    "    y = data.reindex(columns=['class'])\n",
    "    X = data.drop(columns='class')\n",
    "    return X,y"
   ]
  },
  {
   "cell_type": "code",
   "execution_count": 40,
   "metadata": {
    "collapsed": true
   },
   "outputs": [],
   "source": [
    "def count_unique_percent(df):\n",
    "    \"\"\"returns fractions of the unique values in the dataset\"\"\"\n",
    "    #flatten DataFrame to one dimensional array and convert it to Series object\n",
    "    series = pd.Series(df.as_matrix().reshape(-1))\n",
    "    #count unique values percentage\n",
    "    series.value_counts()\n",
    "    unique_counts_pct = series.value_counts(normalize=True)\n",
    "    return unique_counts_pct\n",
    "\n",
    "def get_odd_nucleotide_rows(df):\n",
    "    \"\"\"creates dictionary of rows containing odd (non ATCG nucleotide)\n",
    "       key - non ATCG nucleotide\n",
    "       value - list of rows containing non ATCG nucleotide\n",
    "    \"\"\"\n",
    "    \n",
    "    odd_dict = {}\n",
    "    odd_dict['N'] = df[df == 'N'].dropna(how='all').index.values.reshape(-1)\n",
    "    odd_dict['R'] = df[df == 'R'].dropna(how='all').index.values.reshape(-1)\n",
    "    odd_dict['S'] = df[df == 'S'].dropna(how='all').index.values.reshape(-1)\n",
    "    odd_dict['D'] = df[df == 'D'].dropna(how='all').index.values.reshape(-1)\n",
    "    return odd_dict\n",
    "\n",
    "def remove_odd_nucleotide_rows(df, odd_rows_dict):\n",
    "    #concat dictionary values\n",
    "    to_remove_idx = np.concatenate(list(odd_rows_dict.values()))\n",
    "    return df.drop(index = to_remove_idx.tolist())"
   ]
  },
  {
   "cell_type": "code",
   "execution_count": 41,
   "metadata": {},
   "outputs": [
    {
     "name": "stdout",
     "output_type": "stream",
     "text": [
      "<class 'pandas.core.frame.DataFrame'>\n",
      "RangeIndex: 3189 entries, 0 to 3188\n",
      "Data columns (total 3 columns):\n",
      "class    3189 non-null object\n",
      "id       3189 non-null object\n",
      "dna      3189 non-null object\n",
      "dtypes: object(3)\n",
      "memory usage: 74.8+ KB\n"
     ]
    }
   ],
   "source": [
    "df = splice_from_file(\"data/splice_orig.csv\")\n",
    "df.columns = ['class', 'id', 'dna']\n",
    "\n",
    "df.info()\n",
    "df_split = split_features(df)\n"
   ]
  },
  {
   "cell_type": "code",
   "execution_count": 42,
   "metadata": {},
   "outputs": [
    {
     "data": {
      "text/plain": [
       "C    0.262784\n",
       "G    0.262496\n",
       "T    0.241967\n",
       "A    0.232440\n",
       "N    0.000293\n",
       "D    0.000010\n",
       "S    0.000005\n",
       "R    0.000005\n",
       "dtype: float64"
      ]
     },
     "execution_count": 42,
     "metadata": {},
     "output_type": "execute_result"
    }
   ],
   "source": [
    "df_split_X, df_split_y = separate_feature_class(df_split)\n",
    "count_unique_percent(df_split_X)\n",
    "\n"
   ]
  },
  {
   "cell_type": "code",
   "execution_count": 44,
   "metadata": {},
   "outputs": [],
   "source": [
    "odd_rows_dict = get_odd_nucleotide_rows(df_split_X)\n",
    "df_filt = remove_odd_nucleotide_rows(df_split, odd_rows_dict)\n",
    "df_filt_X, df_filt_y = separate_feature_class(df_filt)"
   ]
  },
  {
   "cell_type": "code",
   "execution_count": 94,
   "metadata": {},
   "outputs": [
    {
     "data": {
      "text/html": [
       "<div>\n",
       "<style scoped>\n",
       "    .dataframe tbody tr th:only-of-type {\n",
       "        vertical-align: middle;\n",
       "    }\n",
       "\n",
       "    .dataframe tbody tr th {\n",
       "        vertical-align: top;\n",
       "    }\n",
       "\n",
       "    .dataframe thead th {\n",
       "        text-align: right;\n",
       "    }\n",
       "</style>\n",
       "<table border=\"1\" class=\"dataframe\">\n",
       "  <thead>\n",
       "    <tr style=\"text-align: right;\">\n",
       "      <th></th>\n",
       "      <th></th>\n",
       "      <th></th>\n",
       "      <th>dna_29_A</th>\n",
       "      <th>dna_29_T</th>\n",
       "    </tr>\n",
       "    <tr>\n",
       "      <th>class_EI</th>\n",
       "      <th>class_IE</th>\n",
       "      <th>class_N</th>\n",
       "      <th></th>\n",
       "      <th></th>\n",
       "    </tr>\n",
       "  </thead>\n",
       "  <tbody>\n",
       "    <tr>\n",
       "      <th rowspan=\"2\" valign=\"top\">0</th>\n",
       "      <th>0</th>\n",
       "      <th>1</th>\n",
       "      <td>400</td>\n",
       "      <td>414</td>\n",
       "    </tr>\n",
       "    <tr>\n",
       "      <th>1</th>\n",
       "      <th>0</th>\n",
       "      <td>762</td>\n",
       "      <td>1</td>\n",
       "    </tr>\n",
       "    <tr>\n",
       "      <th>1</th>\n",
       "      <th>0</th>\n",
       "      <th>0</th>\n",
       "      <td>443</td>\n",
       "      <td>99</td>\n",
       "    </tr>\n",
       "  </tbody>\n",
       "</table>\n",
       "</div>"
      ],
      "text/plain": [
       "                           dna_29_A  dna_29_T\n",
       "class_EI class_IE class_N                    \n",
       "0        0        1             400       414\n",
       "         1        0             762         1\n",
       "1        0        0             443        99"
      ]
     },
     "execution_count": 94,
     "metadata": {},
     "output_type": "execute_result"
    }
   ],
   "source": [
    "pd.get_dummies(df_filt).groupby(['class_EI', 'class_IE', 'class_N']).sum(axis=0)[['dna_29_A', 'dna_29_T']]"
   ]
  },
  {
   "cell_type": "code",
   "execution_count": 100,
   "metadata": {},
   "outputs": [
    {
     "data": {
      "image/png": "[encoded data removed]",
      "text/plain": [
       "<matplotlib.figure.Figure at 0x7f742c879eb8>"
      ]
     },
     "metadata": {},
     "output_type": "display_data"
    }
   ],
   "source": [
    "import numpy as np\n",
    "import matplotlib.pyplot as plt\n",
    "\n",
    "\n",
    "N = 5\n",
    "menMeans = (20, 35, 30, 35, 27)\n",
    "womenMeans = (25, 32, 34, 20, 25)\n",
    "menStd = (2, 3, 4, 1, 2)\n",
    "womenStd = (3, 5, 2, 3, 3)\n",
    "ind = np.arange(3)    # the x locations for the groups\n",
    "width = 0.35       # the width of the bars: can also be len(x) sequence\n",
    "\n",
    "p1 = plt.bar(ind, menMeans, width, yerr=menStd)\n",
    "p2 = plt.bar(ind, womenMeans, width,\n",
    "             bottom=menMeans, yerr=womenStd)\n",
    "\n",
    "plt.ylabel('Scores')\n",
    "plt.title('Scores by group and gender')\n",
    "plt.xticks(ind, ('EI', 'IE', 'N'))\n",
    "plt.yticks(np.arange(0, 81, 10))\n",
    "plt.legend((p1[0], p2[0]), ('Men', 'Women'))\n",
    "\n",
    "plt.show()"
   ]
  },
  {
   "cell_type": "code",
   "execution_count": null,
   "metadata": {
    "collapsed": true
   },
   "outputs": [],
   "source": []
  }
 ],
 "metadata": {
  "kernelspec": {
   "display_name": "Python 3",
   "language": "python",
   "name": "python3"
  },
  "language_info": {
   "codemirror_mode": {
    "name": "ipython",
    "version": 3
   },
   "file_extension": ".py",
   "mimetype": "text/x-python",
   "name": "python",
   "nbconvert_exporter": "python",
   "pygments_lexer": "ipython3",
   "version": "3.5.2"
  }
 },
 "nbformat": 4,
 "nbformat_minor": 2
}
