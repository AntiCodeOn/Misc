{
 "cells": [
  {
   "cell_type": "markdown",
   "metadata": {},
   "source": [
    "# Setup environment"
   ]
  },
  {
   "cell_type": "markdown",
   "metadata": {},
   "source": [
    "First import necessary packages"
   ]
  },
  {
   "cell_type": "code",
   "execution_count": null,
   "metadata": {
    "collapsed": true
   },
   "outputs": [],
   "source": [
    "import pandas as pd\n",
    "import numpy as np\n",
    "import matplotlib.pyplot as plt\n",
    "import seaborn as sns\n",
    "from sklearn import model_selection\n",
    "\n",
    "import preprocess as pp\n",
    "\n",
    "import weka.core.jvm as jvm\n",
    "\n",
    "sns.set()\n",
    "%matplotlib inline\n",
    "\n",
    "import os\n",
    "os.makedirs(\"./images\", exist_ok=True)\n",
    "os.makedirs(\"./data\", exist_ok=True)\n"
   ]
  },
  {
   "cell_type": "markdown",
   "metadata": {},
   "source": [
    "# Preprocess data"
   ]
  },
  {
   "cell_type": "markdown",
   "metadata": {
    "collapsed": true
   },
   "source": [
    "Read raw data and add column names to it. \n",
    "DataFrame info displays some basic information about dataset. We can see that there are 3189 instances without NA objects"
   ]
  },
  {
   "cell_type": "code",
   "execution_count": null,
   "metadata": {},
   "outputs": [],
   "source": [
    "df = pp.splice_from_file(\"data/splice_orig.csv\")\n",
    "df.info()"
   ]
  },
  {
   "cell_type": "markdown",
   "metadata": {},
   "source": [
    "DataFrame head functions show first couple of rows"
   ]
  },
  {
   "cell_type": "code",
   "execution_count": null,
   "metadata": {},
   "outputs": [],
   "source": [
    "df_split = pp.split_features(df)\n",
    "df_split.head()"
   ]
  },
  {
   "cell_type": "markdown",
   "metadata": {},
   "source": [
    "Most of the values are A, C, T, G. Other values are in negligible quantities."
   ]
  },
  {
   "cell_type": "code",
   "execution_count": null,
   "metadata": {},
   "outputs": [],
   "source": [
    "df_split_X, df_split_y = pp.separate_feature_class(df_split)\n",
    "pp.count_unique_percent(df_split_X)"
   ]
  },
  {
   "cell_type": "code",
   "execution_count": null,
   "metadata": {
    "collapsed": true
   },
   "outputs": [],
   "source": [
    "odd_rows_dict = pp.get_odd_nucleotide_rows(df_split_X)\n",
    "df_filt = pp.remove_odd_nucleotide_rows(df_split, odd_rows_dict)\n",
    "df_filt_X, df_filt_y = pp.separate_feature_class(df_filt)"
   ]
  },
  {
   "cell_type": "code",
   "execution_count": null,
   "metadata": {},
   "outputs": [],
   "source": [
    "cols_dna = pp.get_split_col_names()\n",
    "df_groupby_class = pd.get_dummies(df_filt, columns=cols_dna).groupby(['class']).sum(axis=0)\n",
    "\n",
    "df_groupby_class.reset_index(level=0, inplace=True)\n",
    "df_groupby_class.iloc[:,0:4]"
   ]
  },
  {
   "cell_type": "markdown",
   "metadata": {
    "collapsed": true
   },
   "source": [
    "# Visual data information"
   ]
  },
  {
   "cell_type": "code",
   "execution_count": null,
   "metadata": {},
   "outputs": [],
   "source": [
    "hue_order = df_filt['class'].unique()\n",
    "ax = sns.countplot(x='class', data=df_filt, order=hue_order)\n",
    "ax.set(xlabel='', ylabel='Broj uzoraka')\n",
    "plt.savefig(\"images/dataset_class_dist.png\")"
   ]
  },
  {
   "cell_type": "code",
   "execution_count": null,
   "metadata": {},
   "outputs": [],
   "source": [
    "\n",
    "df_train, df_test = model_selection.train_test_split(df_filt, test_size=0.2, stratify=df_filt['class'], random_state=5)\n",
    "\n",
    "df_train.to_csv(\"data/splice_train.csv\", index=False)\n",
    "df_test.to_csv(\"data/splice_test.csv\", index=False)\n",
    "df_train.head()"
   ]
  },
  {
   "cell_type": "code",
   "execution_count": null,
   "metadata": {},
   "outputs": [],
   "source": [
    "ax = sns.countplot(x='class', data=df_train, order = hue_order)\n",
    "ax.set(xlabel='', ylabel='Broj uzoraka')\n",
    "plt.savefig(\"images/trainset_class_dist.jpg\")"
   ]
  },
  {
   "cell_type": "code",
   "execution_count": null,
   "metadata": {},
   "outputs": [],
   "source": [
    "ax = sns.countplot(x='class', data=df_test, order=hue_order)\n",
    "ax.set(xlabel='', ylabel='Broj uzoraka')\n",
    "plt.savefig(\"images/testset_class_dist.jpg\")"
   ]
  },
  {
   "cell_type": "code",
   "execution_count": null,
   "metadata": {},
   "outputs": [],
   "source": [
    "ax = df_groupby_class.set_index('class').T.plot(kind='bar', stacked=True)\n",
    "ax.set(xlabel='', ylabel='Broj uzoraka')"
   ]
  },
  {
   "cell_type": "code",
   "execution_count": null,
   "metadata": {},
   "outputs": [],
   "source": [
    "plt.savefig(\"images/nucleotids_byclass.jpg\")"
   ]
  },
  {
   "cell_type": "markdown",
   "metadata": {},
   "source": [
    "# Weka"
   ]
  },
  {
   "cell_type": "code",
   "execution_count": 2,
   "metadata": {},
   "outputs": [
    {
     "name": "stderr",
     "output_type": "stream",
     "text": [
      "DEBUG:weka.core.jvm:Adding bundled jars\n",
      "DEBUG:weka.core.jvm:Adding system classpath\n",
      "DEBUG:weka.core.jvm:Classpath=['/usr/local/lib/python3.5/dist-packages/javabridge/jars/rhino-1.7R4.jar', '/usr/local/lib/python3.5/dist-packages/javabridge/jars/runnablequeue.jar', '/usr/local/lib/python3.5/dist-packages/javabridge/jars/cpython.jar', '/usr/local/lib/python3.5/dist-packages/weka/lib/python-weka-wrapper.jar', '/usr/local/lib/python3.5/dist-packages/weka/lib/weka.jar']\n",
      "DEBUG:weka.core.jvm:MaxHeapSize=512m\n",
      "DEBUG:weka.core.jvm:Package support enabled\n",
      "DEBUG:javabridge.jutil:Creating JVM object\n",
      "DEBUG:javabridge.jutil:Signalling caller\n"
     ]
    },
    {
     "ename": "JavaException",
     "evalue": "<Java object at 0x2db04a8>",
     "output_type": "error",
     "traceback": [
      "\u001b[0;31m---------------------------------------------------------------------------\u001b[0m",
      "\u001b[0;31mJavaException\u001b[0m                             Traceback (most recent call last)",
      "\u001b[0;32m<ipython-input-2-b780b0700e1e>\u001b[0m in \u001b[0;36m<module>\u001b[0;34m()\u001b[0m\n\u001b[1;32m      1\u001b[0m \u001b[0;32mimport\u001b[0m \u001b[0mweka\u001b[0m\u001b[0;34m.\u001b[0m\u001b[0mcore\u001b[0m\u001b[0;34m.\u001b[0m\u001b[0mjvm\u001b[0m \u001b[0;32mas\u001b[0m \u001b[0mjvm\u001b[0m\u001b[0;34m\u001b[0m\u001b[0m\n\u001b[0;32m----> 2\u001b[0;31m \u001b[0mjvm\u001b[0m\u001b[0;34m.\u001b[0m\u001b[0mstart\u001b[0m\u001b[0;34m(\u001b[0m\u001b[0mmax_heap_size\u001b[0m\u001b[0;34m=\u001b[0m\u001b[0;34m\"512m\"\u001b[0m\u001b[0;34m,\u001b[0m \u001b[0msystem_cp\u001b[0m\u001b[0;34m=\u001b[0m\u001b[0;32mTrue\u001b[0m\u001b[0;34m,\u001b[0m \u001b[0mpackages\u001b[0m\u001b[0;34m=\u001b[0m\u001b[0;32mTrue\u001b[0m\u001b[0;34m)\u001b[0m\u001b[0;34m\u001b[0m\u001b[0m\n\u001b[0m",
      "\u001b[0;32m/usr/local/lib/python3.5/dist-packages/weka/core/jvm.py\u001b[0m in \u001b[0;36mstart\u001b[0;34m(class_path, bundled, packages, system_cp, max_heap_size)\u001b[0m\n\u001b[1;32m    120\u001b[0m         \u001b[0;34m\"Lweka/core/WekaPackageManager;\"\u001b[0m\u001b[0;34m,\u001b[0m \u001b[0;34m\"loadPackages\"\u001b[0m\u001b[0;34m,\u001b[0m\u001b[0;34m\u001b[0m\u001b[0m\n\u001b[1;32m    121\u001b[0m         \u001b[0;34m\"(Z)V\"\u001b[0m\u001b[0;34m,\u001b[0m\u001b[0;34m\u001b[0m\u001b[0m\n\u001b[0;32m--> 122\u001b[0;31m         False)\n\u001b[0m\u001b[1;32m    123\u001b[0m \u001b[0;34m\u001b[0m\u001b[0m\n\u001b[1;32m    124\u001b[0m \u001b[0;34m\u001b[0m\u001b[0m\n",
      "\u001b[0;32m/usr/local/lib/python3.5/dist-packages/javabridge/jutil.py\u001b[0m in \u001b[0;36mstatic_call\u001b[0;34m(class_name, method_name, sig, *args)\u001b[0m\n\u001b[1;32m    936\u001b[0m     \u001b[0mret_sig\u001b[0m \u001b[0;34m=\u001b[0m \u001b[0msig\u001b[0m\u001b[0;34m[\u001b[0m\u001b[0msig\u001b[0m\u001b[0;34m.\u001b[0m\u001b[0mfind\u001b[0m\u001b[0;34m(\u001b[0m\u001b[0;34m')'\u001b[0m\u001b[0;34m)\u001b[0m\u001b[0;34m+\u001b[0m\u001b[0;36m1\u001b[0m\u001b[0;34m:\u001b[0m\u001b[0;34m]\u001b[0m\u001b[0;34m\u001b[0m\u001b[0m\n\u001b[1;32m    937\u001b[0m     \u001b[0mnice_args\u001b[0m \u001b[0;34m=\u001b[0m \u001b[0mget_nice_args\u001b[0m\u001b[0;34m(\u001b[0m\u001b[0margs\u001b[0m\u001b[0;34m,\u001b[0m \u001b[0margs_sig\u001b[0m\u001b[0;34m)\u001b[0m\u001b[0;34m\u001b[0m\u001b[0m\n\u001b[0;32m--> 938\u001b[0;31m     \u001b[0mresult\u001b[0m \u001b[0;34m=\u001b[0m \u001b[0mfn\u001b[0m\u001b[0;34m(\u001b[0m\u001b[0;34m*\u001b[0m\u001b[0mnice_args\u001b[0m\u001b[0;34m)\u001b[0m\u001b[0;34m\u001b[0m\u001b[0m\n\u001b[0m\u001b[1;32m    939\u001b[0m     \u001b[0;32mreturn\u001b[0m \u001b[0mget_nice_result\u001b[0m\u001b[0;34m(\u001b[0m\u001b[0mresult\u001b[0m\u001b[0;34m,\u001b[0m \u001b[0mret_sig\u001b[0m\u001b[0;34m)\u001b[0m\u001b[0;34m\u001b[0m\u001b[0m\n\u001b[1;32m    940\u001b[0m \u001b[0;34m\u001b[0m\u001b[0m\n",
      "\u001b[0;32m/usr/local/lib/python3.5/dist-packages/javabridge/jutil.py\u001b[0m in \u001b[0;36mfn\u001b[0;34m(*args)\u001b[0m\n\u001b[1;32m    916\u001b[0m         \u001b[0mjexception\u001b[0m \u001b[0;34m=\u001b[0m \u001b[0menv\u001b[0m\u001b[0;34m.\u001b[0m\u001b[0mexception_occurred\u001b[0m\u001b[0;34m(\u001b[0m\u001b[0;34m)\u001b[0m\u001b[0;34m\u001b[0m\u001b[0m\n\u001b[1;32m    917\u001b[0m         \u001b[0;32mif\u001b[0m \u001b[0mjexception\u001b[0m \u001b[0;32mis\u001b[0m \u001b[0;32mnot\u001b[0m \u001b[0;32mNone\u001b[0m\u001b[0;34m:\u001b[0m\u001b[0;34m\u001b[0m\u001b[0m\n\u001b[0;32m--> 918\u001b[0;31m             \u001b[0;32mraise\u001b[0m \u001b[0mJavaException\u001b[0m\u001b[0;34m(\u001b[0m\u001b[0mjexception\u001b[0m\u001b[0;34m)\u001b[0m\u001b[0;34m\u001b[0m\u001b[0m\n\u001b[0m\u001b[1;32m    919\u001b[0m         \u001b[0;32mreturn\u001b[0m \u001b[0mresult\u001b[0m\u001b[0;34m\u001b[0m\u001b[0m\n\u001b[1;32m    920\u001b[0m     \u001b[0;32mreturn\u001b[0m \u001b[0mfn\u001b[0m\u001b[0;34m\u001b[0m\u001b[0m\n",
      "\u001b[0;31mJavaException\u001b[0m: <Java object at 0x2db04a8>"
     ]
    }
   ],
   "source": [
    "import weka.core.jvm as jvm\n",
    "jvm.start(max_heap_size=\"512m\", system_cp=True, packages=True)"
   ]
  },
  {
   "cell_type": "code",
   "execution_count": 4,
   "metadata": {},
   "outputs": [],
   "source": [
    "from weka.core.converters import Loader, Saver\n",
    "loader = Loader(classname=\"weka.core.converters.CSVLoader\")\n",
    "data_train = loader.load_file(\"data/splice_train.csv\")\n",
    "data_test = loader.load_file(\"data/splice_train.csv\")\n",
    "data_train.class_is_first()\n",
    "data_test.class_is_first()"
   ]
  },
  {
   "cell_type": "code",
   "execution_count": null,
   "metadata": {},
   "outputs": [],
   "source": []
  },
  {
   "cell_type": "code",
   "execution_count": null,
   "metadata": {
    "collapsed": true
   },
   "outputs": [],
   "source": []
  },
  {
   "cell_type": "code",
   "execution_count": null,
   "metadata": {},
   "outputs": [],
   "source": [
    "print(\"# attributes: \" + str(attsel.number_attributes_selected))\n",
    "print(\"attributes: \" + str(attsel.selected_attributes))\n",
    "print(\"result string:\\n\" + attsel.results_string)"
   ]
  },
  {
   "cell_type": "code",
   "execution_count": null,
   "metadata": {
    "collapsed": true
   },
   "outputs": [],
   "source": []
  },
  {
   "cell_type": "code",
   "execution_count": null,
   "metadata": {},
   "outputs": [],
   "source": []
  },
  {
   "cell_type": "code",
   "execution_count": null,
   "metadata": {},
   "outputs": [],
   "source": []
  },
  {
   "cell_type": "code",
   "execution_count": 9,
   "metadata": {},
   "outputs": [
    {
     "name": "stdout",
     "output_type": "stream",
     "text": [
      "AffectiveTweets https://github.com/felipebravom/AffectiveTweets/releases/download/1.0.0/AffectiveTweets1.0.0.zip\n",
      "AnDE http://prdownloads.sourceforge.net/averagedndepend/AnDE1.2.1.zip?download\n",
      "AnalogicalModeling https://github.com/garfieldnate/Weka_AnalogicalModeling/releases/download/0.04/Weka_AnalogicalModeling-0.04.zip\n",
      "ArabicStemmers_LightStemmers http://prdownloads.sourceforge.net/ar-text-mining/ArabicStemmers_LightStemmers_1.0.0.zip?download\n",
      "Auto-WEKA http://www.cs.ubc.ca/labs/beta/Projects/autoweka/autoweka-2.6.1.zip\n",
      "CAAR http://downloads.sourceforge.net/project/caar/CAAR.zip\n",
      "CHIRP https://www.cs.uic.edu/~tdang/file/CHIRP1.0.1.zip\n",
      "CLOPE http://prdownloads.sourceforge.net/weka/CLOPE1.0.1.zip?download\n",
      "CVAttributeEval http://prdownloads.sourceforge.net/fsvc/CVAttributeEval1.0.0.zip?download\n",
      "DMNBtext http://prdownloads.sourceforge.net/weka/DMNBtext1.0.1.zip?download\n",
      "DTNB http://prdownloads.sourceforge.net/weka/DTNB1.0.4.zip?download\n",
      "DilcaDistance http://prdownloads.sourceforge.net/weka/DilcaDistance1.0.1.zip?download\n",
      "DistributionBasedBalance http://www.dsi.uclm.es/personal/PabloBermejo/downloads/DistributionBasedBalance1.0.0.zip\n",
      "EAR4 http://downloads.sourceforge.net/project/ear4/EAR4.zip\n",
      "EBMC https://github.com/arturolp/ebmc-weka/releases/download/v1.0/ebmc.zip\n",
      "EMImputation http://prdownloads.sourceforge.net/weka/EMImputation1.0.1.zip?download\n",
      "EvolutionarySearch https://github.com/sebastian-luna-valero/EvolutionarySearch/releases/download/1.0.2/EvolutionarySearch.zip\n",
      "ForestPA http://csusap.csu.edu.au/~zislam/code/ForestPA.zip\n",
      "GPAttributeGeneration http://gradients.lboro.ac.uk/cocn3/weka-GPAttributeGeneration1.0.0.zip\n",
      "HMM https://github.com/marcogillies/HMMWeka/releases/download/v1.1/HMM.zip\n",
      "IBkLG https://github.com/sheshas/IBkLG/blob/master/IBkLG.zip?raw=true\n",
      "IPCP https://github.com/glaubercini/ipcp/raw/master/packages/IPCP_1_0_1.zip\n",
      "IWSS http://www.dsi.uclm.es/personal/PabloBermejo/downloads/IWSS1.0.0.zip\n",
      "IWSSembeddedNB http://www.dsi.uclm.es/personal/PabloBermejo/downloads/IWSSembeddedNB1.0.0.zip\n",
      "J48Consolidated http://www.aldapa.eus/res/weka-ctc/J48Consolidated-v3.1.zip\n",
      "J48graft http://prdownloads.sourceforge.net/weka/J48graft1.1.5.zip?download\n",
      "JCDT http://flanagan.ugr.es/weka/JCDT.zip\n",
      "JDBCDriversDummyPackage http://prdownloads.sourceforge.net/weka/JDBCDriversDummyPackage1.0.1.zip?download\n",
      "LVQ http://prdownloads.sourceforge.net/wekann/LVQ1.0.1.zip?download\n",
      "LibLINEAR http://prdownloads.sourceforge.net/weka/LibLINEAR1.9.8.zip?download\n",
      "LibSVM http://prdownloads.sourceforge.net/weka/LibSVM1.0.10.zip?download\n",
      "MODLEM http://prdownloads.sourceforge.net/modlem/package-modlem1.0.0.zip?download\n",
      "MTreeClusterer http://prdownloads.sourceforge.net/wekamtreeclusterer/MTree.zip\n",
      "MultiObjectiveEvolutionaryFuzzyClassifier http://prdownloads.sourceforge.net/moefc/MultiObjectiveEvolutionaryFuzzyClassifier1.0.0.zip?download\n",
      "MultiObjectiveEvolutionarySearch http://downloads.sourceforge.net/project/moea/MultiObjectiveEvolutionarySearch1.0.0.zip\n",
      "NNge http://prdownloads.sourceforge.net/weka/NNge1.0.3.zip?download\n",
      "OpenmlWeka https://github.com/openml/openml-weka/releases/download/openmlweka-0.9.5/OpenmlWeka.zip\n",
      "PSOSearch https://github.com/sebastian-luna-valero/PSOSearch/releases/download/1.2.0/PSOSearch.zip\n",
      "RBFNetwork http://prdownloads.sourceforge.net/weka/RBFNetwork1.0.8.zip?download\n",
      "RPlugin http://prdownloads.sourceforge.net/weka/RPlugin1.3.25.zip?download\n",
      "RankCorrelation https://github.com/felipebravom/RankCorrelation/releases/download/v1.0.0/RankCorrelation1.0.0.zip\n",
      "RankerByDTClassification http://downloads.sourceforge.net/project/wekarankerbydtclassification/v5/RankerByDTClassification.zip\n",
      "RerankingSearch http://www.dsi.uclm.es/personal/PabloBermejo/downloads/RerankingSearch1.1.0.zip\n",
      "Rseslib http://rseslib.mimuw.edu.pl/weka/Rseslib3.1.2.zip\n",
      "SMOTE http://prdownloads.sourceforge.net/weka/SMOTE1.0.3.zip?download\n",
      "SPMFWrapper https://github.com/chrispy645/spmf-wrapper/releases/download/0.0.2/spmfWrapper.zip\n",
      "SPegasos http://prdownloads.sourceforge.net/weka/SPegasos1.0.1.zip?download\n",
      "SSF https://sites.google.com/site/covoes/SSF_Package.zip\n",
      "SVMAttributeEval http://prdownloads.sourceforge.net/weka/SVMAttributeEval1.0.1.zip?download\n",
      "SelfOrganizingMap http://prdownloads.sourceforge.net/wekann/SelfOrganizingMap1.0.3.zip?download\n",
      "SparseGenerativeModel http://prdownloads.sourceforge.net/sgmweka/SparseGenerativeModel.zip?download\n",
      "StudentFilters https://github.com/cgearhart/students-filters/raw/master/StudentFilters.zip\n",
      "SysFor http://csusap.csu.edu.au/~zislam/code/SysForWeka.zip\n",
      "TPP https://storage.googleapis.com/google-code-archive-downloads/v2/code.google.com/targeted-projection-pursuit/TPP-1.0.6.zip\n",
      "WekaExcel http://prdownloads.sourceforge.net/weka/WekaExcel1.0.7.zip?download\n",
      "WekaODF http://prdownloads.sourceforge.net/weka/WekaODF1.0.4.zip?download\n",
      "WekaPyScript http://github.com/christopher-beckham/weka-pyscript/releases/download/0.5.1/WekaPyScript.zip\n",
      "XMeans http://prdownloads.sourceforge.net/weka/XMeans1.0.4.zip?download\n",
      "alternatingDecisionTrees http://prdownloads.sourceforge.net/weka/alternatingDecisionTrees1.0.6.zip?download\n",
      "alternatingModelTrees http://prdownloads.sourceforge.net/weka/alternatingModelTrees1.0.0.zip?download\n",
      "anonymizationPackage http://userpage.fu-berlin.de/semu/software/weka/anonymization1.0.1.zip\n",
      "arxAnonymizer https://raw.githubusercontent.com/farbtrommel/arx-weka/master/package/arxAnonymizer1.0.0.zip\n",
      "associationRulesVisualizer http://prdownloads.sourceforge.net/weka/associationRulesVisualizer1.0.3.zip?download\n",
      "attributeSelectionSearchMethods http://prdownloads.sourceforge.net/weka/attributeSelectionSearchMethods1.0.7.zip?download\n",
      "baggedLocalOutlierFactor http://people.cs.umass.edu/~lfriedl/code/baggedLocalOutlierFactor.zip\n",
      "bayesianLogisticRegression http://prdownloads.sourceforge.net/weka/bayesianLogisticRegression1.0.5.zip?download\n",
      "bestFirstTree http://prdownloads.sourceforge.net/weka/bestFirstTree1.0.4.zip?download\n",
      "cascadeKMeans http://prdownloads.sourceforge.net/weka/cascadeKMeans1.0.4.zip?download\n",
      "cassandraConverters http://prdownloads.sourceforge.net/weka/cassandraConverters1.0.1.zip?download\n",
      "chiSquaredAttributeEval http://prdownloads.sourceforge.net/weka/chiSquaredAttributeEval1.0.4.zip?download\n",
      "citationKNN http://prdownloads.sourceforge.net/weka/citationKNN1.0.1.zip?download\n",
      "classAssociationRules http://prdownloads.sourceforge.net/weka/classAssociationRules1.0.3.zip?download\n",
      "classificationViaClustering http://prdownloads.sourceforge.net/weka/classificationViaClustering1.0.8.zip?download\n",
      "classificationViaRegression http://prdownloads.sourceforge.net/weka/classificationViaRegression1.0.1.zip?download\n",
      "classifierBasedAttributeSelection http://prdownloads.sourceforge.net/weka/classifierBasedAttributeSelection1.0.5.zip?download\n",
      "classifierErrors http://prdownloads.sourceforge.net/weka/classifierErrors1.0.1.zip?download\n",
      "clojureClassifier http://prdownloads.sourceforge.net/weka/clojureClassifier1.0.1.zip?download\n",
      "complementNaiveBayes http://prdownloads.sourceforge.net/weka/complementNaiveBayes1.0.3.zip?download\n",
      "conjunctiveRule http://prdownloads.sourceforge.net/weka/conjunctiveRule1.0.4.zip?download\n",
      "consistencySubsetEval http://prdownloads.sourceforge.net/weka/consistencySubsetEval1.0.5.zip?download\n",
      "costSensitiveAttributeSelection http://prdownloads.sourceforge.net/weka/costSensitiveAttributeSelection1.0.3.zip?download\n",
      "dagging http://prdownloads.sourceforge.net/weka/dagging1.0.3.zip?download\n",
      "decorate http://prdownloads.sourceforge.net/weka/decorate1.0.2.zip?download\n",
      "denormalize http://prdownloads.sourceforge.net/weka/denormalize1.0.3.zip?download\n",
      "discriminantAnalysis http://prdownloads.sourceforge.net/weka/discriminantAnalysis1.0.2.zip?download\n",
      "distributedWekaBase http://downloads.sourceforge.net/project/weka/weka-packages/distributedWekaBase1.1.17.zip\n",
      "distributedWekaHadoop http://prdownloads.sourceforge.net/weka/distributedWekaHadoop1.1.17.zip?download\n",
      "distributedWekaHadoop2 http://prdownloads.sourceforge.net/weka/distributedWekaHadoop21.1.17.zip?download\n",
      "distributedWekaHadoop2Libs http://prdownloads.sourceforge.net/weka/distributedWekaHadoop2Libs1.0.1.zip?download\n",
      "distributedWekaHadoopCore http://prdownloads.sourceforge.net/weka/distributedWekaHadoopCore1.1.22.zip?download\n",
      "distributedWekaHadoopLibs http://prdownloads.sourceforge.net/weka/distributedWekaHadoopLibs1.0.1.zip?download\n",
      "distributedWekaSpark http://downloads.sourceforge.net/weka/weka-packages/distributedWekaSpark1.1.9.zip\n",
      "distributedWekaSparkDev http://downloads.sourceforge.net/weka/weka-packages/distributedWekaSparkDev1.1.1.zip\n",
      "elasticNet http://prdownloads.sourceforge.net/weka/elasticNet1.0.0.zip?download\n",
      "ensembleLibrary http://prdownloads.sourceforge.net/weka/ensembleLibrary1.0.6.zip?download\n",
      "ensemblesOfNestedDichotomies http://prdownloads.sourceforge.net/weka/ensemblesOfNestedDichotomies1.0.6.zip?download\n",
      "extraTrees http://prdownloads.sourceforge.net/weka/extraTrees1.0.2.zip?download\n",
      "fastCorrBasedFS http://prdownloads.sourceforge.net/weka/fastCorrBasedFS1.0.1.zip?download\n",
      "filteredAttributeSelection http://prdownloads.sourceforge.net/weka/filteredAttributeSelection1.0.1.zip?download\n",
      "functionalTrees http://prdownloads.sourceforge.net/weka/functionalTrees1.0.4.zip?download\n",
      "fuzzyLaticeReasoning http://prdownloads.sourceforge.net/weka/fuzzyLaticeReasoning1.0.1.zip?download\n",
      "fuzzyUnorderedRuleInduction http://prdownloads.sourceforge.net/weka/fuzzyUnorderedRuleInduction1.0.2.zip?download\n",
      "gaussianProcesses http://prdownloads.sourceforge.net/weka/gaussianProcesses1.0.1.zip?download\n",
      "generalizedSequentialPatterns http://prdownloads.sourceforge.net/weka/generalizedSequentialPatterns1.0.1.zip?download\n",
      "grading http://prdownloads.sourceforge.net/weka/grading1.0.1.zip?download\n",
      "graphgram http://voltaic-sandbox-523.appspot.com/downloads/graphgram_weka_20140513.zip\n",
      "gridSearch http://prdownloads.sourceforge.net/weka/gridSearch1.0.11.zip?download\n",
      "hiddenNaiveBayes http://prdownloads.sourceforge.net/weka/hiddenNaiveBayes1.0.1.zip?download\n",
      "hiveJDBC http://prdownloads.sourceforge.net/weka/hiveJDBC1.0.0.zip?download\n",
      "hotSpot http://prdownloads.sourceforge.net/weka/hotSpot1.0.5.zip?download\n",
      "hyperPipes http://prdownloads.sourceforge.net/weka/hyperPipes1.0.1.zip?download\n",
      "imageFilters https://github.com/mmayo888/ImageFilter/blob/master/imageFilters1.0.3.zip?raw=true\n",
      "isolationForest http://prdownloads.sourceforge.net/weka/isolationForest1.0.2.zip?download\n",
      "isotonicRegression http://prdownloads.sourceforge.net/weka/isotonicRegression1.0.1.zip?download\n",
      "iterativeAbsoluteErrorRegression http://prdownloads.sourceforge.net/weka/iterativeAbsoluteErrorRegression1.0.0.zip?download\n",
      "jfreechartOffscreenRenderer http://prdownloads.sourceforge.net/weka/jfreechartOffscreenRenderer1.0.5.zip?download\n",
      "jsonFieldExtractor http://prdownloads.sourceforge.net/weka/jsonFieldExtractor1.0.0.zip?download\n",
      "kernelLogisticRegression http://prdownloads.sourceforge.net/weka/kernelLogisticRegression1.0.0.zip?download\n",
      "kfGroovy http://prdownloads.sourceforge.net/weka/kfGroovy1.0.14.zip?download\n",
      "kfKettle http://prdownloads.sourceforge.net/weka/kfKettle1.0.4.zip?download\n",
      "kfPMMLClassifierScoring http://prdownloads.sourceforge.net/weka/kfPMMLClassifierScoring1.0.2.zip?download\n",
      "largeScaleKernelLearning http://prdownloads.sourceforge.net/weka/largeScaleKernelLearning1.0.4.zip?download\n",
      "latentSemanticAnalysis http://prdownloads.sourceforge.net/weka/latentSemanticAnalysis1.0.5.zip?download\n",
      "lazyAssociativeClassifier https://storage.googleapis.com/google-code-archive-downloads/v2/code.google.com/machine-learning-dcc-ufmg/lazy-associative-classifier-1.0.0.zip\n",
      "lazyBayesianRules http://prdownloads.sourceforge.net/weka/lazyBayesianRules1.0.1.zip?download\n",
      "leastMedSquared http://prdownloads.sourceforge.net/weka/leastMedSquared1.0.1.zip?download\n",
      "levenshteinEditDistance http://prdownloads.sourceforge.net/weka/levenshteinEditDistance1.0.1.zip?download\n",
      "linearForwardSelection http://prdownloads.sourceforge.net/weka/linearForwardSelection1.0.1.zip?download\n",
      "localOutlierFactor http://prdownloads.sourceforge.net/weka/localOutlierFactor1.0.6.zip?download\n",
      "logarithmicErrorMetrics http://prdownloads.sourceforge.net/weka/logarithmicErrorMetrics1.0.0.zip?download\n",
      "massiveOnlineAnalysis http://prdownloads.sourceforge.net/weka/massiveOnlineAnalysis1.0.3.zip?download\n",
      "metaCost http://prdownloads.sourceforge.net/weka/metaCost1.0.3.zip?download\n",
      "metaphorSearchMethods http://prdownloads.sourceforge.net/geneticsearch-weka/metaphorSearchMethods.zip?download\n",
      "multiBoostAB http://prdownloads.sourceforge.net/weka/multiBoostAB1.0.1.zip?download\n",
      "multiInstanceFilters http://prdownloads.sourceforge.net/weka/multiInstanceFilters1.0.9.zip?download\n",
      "multiInstanceLearning http://prdownloads.sourceforge.net/weka/multiInstanceLearning1.0.10.zip?download\n",
      "multiLayerPerceptrons http://prdownloads.sourceforge.net/weka/multiLayerPerceptrons1.0.10.zip?download\n",
      "multilayerPerceptronCS http://prdownloads.sourceforge.net/weka/multilayerPerceptronCS1.0.1.zip?download\n",
      "multisearch https://github.com/fracpete/multisearch-weka-package/releases/download/v2017.3.28/multisearch-2017.3.28.zip\n",
      "naiveBayesTree http://prdownloads.sourceforge.net/weka/naiveBayesTree1.0.4.zip?download\n",
      "netlibNativeLinux http://prdownloads.sourceforge.net/weka/netlibNativeLinux1.0.2.zip?download\n",
      "netlibNativeOSX http://prdownloads.sourceforge.net/weka/netlibNativeOSX1.0.1.zip?download\n",
      "netlibNativeWindows http://prdownloads.sourceforge.net/weka/netlibNativeWindows1.0.1.zip?download\n",
      "newKnowledgeFlowStepExamples http://prdownloads.sourceforge.net/weka/newKnowledgeFlowStepExamples1.0.0.zip?download\n",
      "niftiLoader http://prdownloads.sourceforge.net/weka/niftiLoader1.0.1.zip?download\n",
      "normalize http://prdownloads.sourceforge.net/weka/normalize1.0.1.zip?download\n",
      "oneClassClassifier http://prdownloads.sourceforge.net/weka/oneClassClassifier1.0.4.zip?download\n",
      "optics_dbScan http://prdownloads.sourceforge.net/weka/optics_dbScan1.0.5.zip?download\n",
      "ordinalClassClassifier http://prdownloads.sourceforge.net/weka/ordinalClassClassifier1.0.5.zip?download\n",
      "ordinalLearningMethod http://prdownloads.sourceforge.net/weka/ordinalLearningMethod1.0.1.zip?download\n",
      "ordinalStochasticDominance http://prdownloads.sourceforge.net/weka/ordinalStochasticDominance1.0.1.zip?download\n",
      "paceRegression http://prdownloads.sourceforge.net/weka/paceRegression1.0.1.zip?download\n",
      "partialLeastSquares http://prdownloads.sourceforge.net/weka/partialLeastSquares1.0.5.zip?download\n",
      "percentageErrorMetrics http://prdownloads.sourceforge.net/weka/percentageErrorMetrics1.0.1.zip?download\n",
      "predictiveApriori http://prdownloads.sourceforge.net/weka/predictiveApriori1.1.5.zip?download\n",
      "prefuseGraph http://prdownloads.sourceforge.net/weka/prefuseGraph1.0.4.zip?download\n",
      "prefuseGraphViewer http://prdownloads.sourceforge.net/weka/prefuseGraphViewer1.0.4.zip?download\n",
      "prefuseTree http://prdownloads.sourceforge.net/weka/prefuseTree1.0.2.zip?download\n",
      "probabilisticSignificanceAE http://prdownloads.sourceforge.net/weka/probabilisticSignificanceAE1.0.1.zip?download\n",
      "probabilityCalibrationTrees http://prdownloads.sourceforge.net/weka/probabilityCalibrationTrees1.0.0.zip?download\n",
      "raceSearch http://prdownloads.sourceforge.net/weka/raceSearch1.0.1.zip?download\n",
      "racedIncrementalLogitBoost http://prdownloads.sourceforge.net/weka/racedIncrementalLogitBoost1.0.1.zip?download\n",
      "realAdaBoost http://prdownloads.sourceforge.net/weka/realAdaBoost1.0.1.zip?download\n",
      "regressionByDiscretization http://prdownloads.sourceforge.net/weka/regressionByDiscretization1.0.1.zip?download\n",
      "ridor http://prdownloads.sourceforge.net/weka/ridor1.0.1.zip?download\n",
      "rotationForest http://prdownloads.sourceforge.net/weka/rotationForest1.0.2.zip?download\n",
      "sasLoader http://prdownloads.sourceforge.net/weka/sasLoader1.0.0.zip?download\n",
      "scatterPlot3D http://prdownloads.sourceforge.net/weka/scatterPlot3D1.0.7.zip?download\n",
      "scriptingClassifiers http://prdownloads.sourceforge.net/weka/scriptingClassifiers1.1.3.zip?download\n",
      "sequentialInformationalBottleneckClusterer http://prdownloads.sourceforge.net/weka/sequentialInformationalBottleneckClusterer1.0.1.zip?download\n",
      "simpleCART http://prdownloads.sourceforge.net/weka/simpleCART1.0.4.zip?download\n",
      "simpleEducationalLearningSchemes http://prdownloads.sourceforge.net/weka/simpleEducationalLearningSchemes1.0.1.zip?download\n",
      "snowball-stemmers http://prdownloads.sourceforge.net/weka/snowball-stemmers1.0.2.zip?download\n",
      "stackingC http://prdownloads.sourceforge.net/weka/stackingC1.0.3.zip?download\n",
      "streamingUnivariateStats http://downloads.sourceforge.net/project/weka/weka-packages/streamingUnivariateStats1.0.1.zip\n",
      "supervisedAttributeScaling http://prdownloads.sourceforge.net/weka/supervisedAttributeScaling1.0.0.zip?download\n",
      "tabuAndScatterSearch http://prdownloads.sourceforge.net/weka/tabuAndScatterSearch1.0.1.zip?download\n",
      "tertius http://prdownloads.sourceforge.net/weka/tertius1.0.1.zip?download\n",
      "thresholdSelector http://prdownloads.sourceforge.net/weka/thresholdSelector1.0.3.zip?download\n",
      "tigerjython http://prdownloads.sourceforge.net/weka/tigerjython1.0.3.zip?download\n",
      "timeSeriesFilters http://prdownloads.sourceforge.net/weka/timeSeriesFilters1.0.0.zip?download\n",
      "timeseriesForecasting http://prdownloads.sourceforge.net/weka/timeseriesForecasting1.1.25.zip?download\n",
      "userClassifier http://prdownloads.sourceforge.net/weka/userClassifier1.0.3.zip?download\n",
      "vfdr https://github.com/Oowekyala/vfdr-weka/releases/download/v1.0.0/vfdr-1.0.0.zip\n",
      "vines https://github.com/kramerlab/rvines/releases/download/1.0.0/vines-1.0.0.zip\n",
      "votingFeatureIntervals http://prdownloads.sourceforge.net/weka/votingFeatureIntervals1.0.1.zip?download\n",
      "wavelet http://prdownloads.sourceforge.net/weka/wavelet1.0.1.zip?download\n",
      "wekaDeeplearning4j http://prdownloads.sourceforge.net/weka/wekaDeeplearning4j1.0.2.zip?download\n",
      "wekaDeeplearning4j-CPU-linux https://github.com/Waikato/wekaDeeplearning4j/releases/download/v1.4.0/wekaDeeplearning4j-CPU-1.4.0-linux-x86_64.zip\n",
      "wekaDeeplearning4j-CPU-macosx https://github.com/Waikato/wekaDeeplearning4j/releases/download/v1.4.0/wekaDeeplearning4j-CPU-1.4.0-macosx-x86_64.zip\n",
      "wekaDeeplearning4j-CPU-windows https://github.com/Waikato/wekaDeeplearning4j/releases/download/v1.4.0/wekaDeeplearning4j-CPU-1.4.0-windows-x86_64.zip\n",
      "wekaDeeplearning4j-GPU-linux https://github.com/Waikato/wekaDeeplearning4j/releases/download/v1.4.0/wekaDeeplearning4j-GPU-1.4.0-linux-x86_64.zip\n",
      "wekaDeeplearning4j-GPU-macosx https://github.com/Waikato/wekaDeeplearning4j/releases/download/v1.4.0/wekaDeeplearning4j-GPU-1.4.0-macosx-x86_64.zip\n",
      "wekaDeeplearning4j-GPU-windows https://github.com/Waikato/wekaDeeplearning4j/releases/download/v1.4.0/wekaDeeplearning4j-GPU-1.4.0-windows-x86_64.zip\n",
      "wekaPython http://prdownloads.sourceforge.net/weka/wekaPython1.0.6.zip?download\n",
      "wekaServer http://prdownloads.sourceforge.net/weka/wekaServer1.1.8.zip?download\n",
      "winnow http://prdownloads.sourceforge.net/weka/winnow1.0.1.zip?download\n"
     ]
    }
   ],
   "source": [
    "# refresh package cache\n",
    "import weka.core.packages as packages\n",
    "packages.refresh_cache()\n",
    "\n",
    "# list all packages (name and URL)\n",
    "items = packages.all_packages()\n",
    "for item in items:\n",
    "    print(item.name + \" \" + item.url)\n",
    "    \n"
   ]
  },
  {
   "cell_type": "code",
   "execution_count": null,
   "metadata": {},
   "outputs": [],
   "source": [
    "packages.install_package('chiSquaredAttributeEval')\n",
    "items = packages.installed_packages()\n",
    "for item in items:\n",
    "    print(item.name + \" \" + item.url)"
   ]
  },
  {
   "cell_type": "code",
   "execution_count": null,
   "metadata": {},
   "outputs": [],
   "source": [
    "packages.install_package('SVMAttributeEval')\n",
    "items = packages.installed_packages()\n",
    "for item in items:\n",
    "    print(item.name + \" \" + item.url)"
   ]
  },
  {
   "cell_type": "code",
   "execution_count": null,
   "metadata": {},
   "outputs": [],
   "source": []
  },
  {
   "cell_type": "code",
   "execution_count": 6,
   "metadata": {},
   "outputs": [],
   "source": [
    "from weka.attribute_selection import ASSearch, ASEvaluation, AttributeSelection\n",
    "chisqr_s = ASSearch(classname=\"weka.attributeSelection.Ranker\", options=[\"-T\", \"-1.7976931348623157E308\", \"-N\", \"20\"])\n",
    "chisqr_e = ASEvaluation(classname=\"weka.attributeSelection.ChiSquaredAttributeEval\")\n",
    "attsel = AttributeSelection()\n",
    "attsel.search(chisqr_s)\n",
    "attsel.evaluator(chisqr_e)\n",
    "attsel.select_attributes(data_train)"
   ]
  },
  {
   "cell_type": "code",
   "execution_count": null,
   "metadata": {},
   "outputs": [],
   "source": [
    "# refresh package cache\n",
    "import weka.core.packages as packages\n",
    "packages.refresh_cache()\n",
    "packages.is_installed('chiSquaredAttributeEval')"
   ]
  },
  {
   "cell_type": "code",
   "execution_count": 7,
   "metadata": {},
   "outputs": [
    {
     "name": "stdout",
     "output_type": "stream",
     "text": [
      "# attributes: 20\n",
      "attributes: [30 32 31 29 35 28 34 33 25 24 26 23 20 21 22 18 19 17 16 36  0]\n",
      "result string:\n",
      "\n",
      "\n",
      "=== Attribute Selection on all input data ===\n",
      "\n",
      "Search Method:\n",
      "\tAttribute ranking.\n",
      "\n",
      "Attribute Evaluator (supervised, Class (nominal): 1 class):\n",
      "\tChi-squared Ranking Filter\n",
      "\n",
      "Ranked attributes:\n",
      "1109.4302    31 dna_30\n",
      " 966.0452    33 dna_32\n",
      " 959.4816    32 dna_31\n",
      " 953.336     30 dna_29\n",
      " 795.4188    36 dna_35\n",
      " 631.5054    29 dna_28\n",
      " 488.9084    35 dna_34\n",
      " 435.6823    34 dna_33\n",
      " 356.538     26 dna_25\n",
      " 257.5063    25 dna_24\n",
      " 251.0488    27 dna_26\n",
      " 230.1255    24 dna_23\n",
      " 225.4407    21 dna_20\n",
      " 215.2521    22 dna_21\n",
      " 201.8339    23 dna_22\n",
      " 187.5633    19 dna_18\n",
      " 185.8257    20 dna_19\n",
      " 152.0342    18 dna_17\n",
      " 140.2707    17 dna_16\n",
      " 121.4042    37 dna_36\n",
      "\n",
      "Selected attributes: 31,33,32,30,36,29,35,34,26,25,27,24,21,22,23,19,20,18,17,37 : 20\n",
      "\n"
     ]
    }
   ],
   "source": [
    "print(\"# attributes: \" + str(attsel.number_attributes_selected))\n",
    "print(\"attributes: \" + str(attsel.selected_attributes))\n",
    "print(\"result string:\\n\" + attsel.results_string)"
   ]
  },
  {
   "cell_type": "code",
   "execution_count": null,
   "metadata": {
    "collapsed": true
   },
   "outputs": [],
   "source": []
  }
 ],
 "metadata": {
  "kernelspec": {
   "display_name": "Python 3",
   "language": "python",
   "name": "python3"
  },
  "language_info": {
   "codemirror_mode": {
    "name": "ipython",
    "version": 3
   },
   "file_extension": ".py",
   "mimetype": "text/x-python",
   "name": "python",
   "nbconvert_exporter": "python",
   "pygments_lexer": "ipython3",
   "version": "3.5.2"
  }
 },
 "nbformat": 4,
 "nbformat_minor": 2
}
