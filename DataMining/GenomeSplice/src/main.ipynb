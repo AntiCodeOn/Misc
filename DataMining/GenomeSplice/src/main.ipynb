{
 "cells": [
  {
   "cell_type": "markdown",
   "metadata": {},
   "source": [
    "# Setup environment"
   ]
  },
  {
   "cell_type": "markdown",
   "metadata": {},
   "source": [
    "First import necessary packages"
   ]
  },
  {
   "cell_type": "code",
   "execution_count": 1,
   "metadata": {
    "collapsed": true
   },
   "outputs": [],
   "source": [
    "import pandas as pd\n",
    "import numpy as np\n",
    "import matplotlib.pyplot as plt\n",
    "import seaborn as sns\n",
    "from sklearn import model_selection\n",
    "from sklearn import feature_selection\n",
    "\n",
    "import preprocess as pp\n",
    "\n",
    "import weka.core.jvm as jvm\n",
    "\n",
    "sns.set()\n",
    "%matplotlib inline\n",
    "\n",
    "import os\n",
    "os.makedirs(\"./images\", exist_ok=True)\n",
    "os.makedirs(\"./data\", exist_ok=True)\n"
   ]
  },
  {
   "cell_type": "markdown",
   "metadata": {},
   "source": [
    "# Preprocess data"
   ]
  },
  {
   "cell_type": "markdown",
   "metadata": {
    "collapsed": true
   },
   "source": [
    "Read raw data and add column names to it. \n",
    "DataFrame info displays some basic information about dataset. We can see that there are 3189 instances without NA objects"
   ]
  },
  {
   "cell_type": "code",
   "execution_count": 2,
   "metadata": {},
   "outputs": [
    {
     "name": "stdout",
     "output_type": "stream",
     "text": [
      "<class 'pandas.core.frame.DataFrame'>\n",
      "RangeIndex: 3189 entries, 0 to 3188\n",
      "Data columns (total 3 columns):\n",
      "class    3189 non-null object\n",
      "id       3189 non-null object\n",
      "dna      3189 non-null object\n",
      "dtypes: object(3)\n",
      "memory usage: 74.8+ KB\n"
     ]
    }
   ],
   "source": [
    "df = pp.splice_from_file(\"data/splice_orig.csv\")\n",
    "df.info()"
   ]
  },
  {
   "cell_type": "markdown",
   "metadata": {},
   "source": [
    "DataFrame head functions show first couple of rows"
   ]
  },
  {
   "cell_type": "code",
   "execution_count": 3,
   "metadata": {},
   "outputs": [
    {
     "data": {
      "text/html": [
       "<div>\n",
       "<style scoped>\n",
       "    .dataframe tbody tr th:only-of-type {\n",
       "        vertical-align: middle;\n",
       "    }\n",
       "\n",
       "    .dataframe tbody tr th {\n",
       "        vertical-align: top;\n",
       "    }\n",
       "\n",
       "    .dataframe thead th {\n",
       "        text-align: right;\n",
       "    }\n",
       "</style>\n",
       "<table border=\"1\" class=\"dataframe\">\n",
       "  <thead>\n",
       "    <tr style=\"text-align: right;\">\n",
       "      <th></th>\n",
       "      <th>class</th>\n",
       "      <th>dna_1</th>\n",
       "      <th>dna_2</th>\n",
       "      <th>dna_3</th>\n",
       "      <th>dna_4</th>\n",
       "      <th>dna_5</th>\n",
       "      <th>dna_6</th>\n",
       "      <th>dna_7</th>\n",
       "      <th>dna_8</th>\n",
       "      <th>dna_9</th>\n",
       "      <th>...</th>\n",
       "      <th>dna_51</th>\n",
       "      <th>dna_52</th>\n",
       "      <th>dna_53</th>\n",
       "      <th>dna_54</th>\n",
       "      <th>dna_55</th>\n",
       "      <th>dna_56</th>\n",
       "      <th>dna_57</th>\n",
       "      <th>dna_58</th>\n",
       "      <th>dna_59</th>\n",
       "      <th>dna_60</th>\n",
       "    </tr>\n",
       "  </thead>\n",
       "  <tbody>\n",
       "    <tr>\n",
       "      <th>0</th>\n",
       "      <td>EI</td>\n",
       "      <td>A</td>\n",
       "      <td>G</td>\n",
       "      <td>A</td>\n",
       "      <td>C</td>\n",
       "      <td>C</td>\n",
       "      <td>C</td>\n",
       "      <td>G</td>\n",
       "      <td>C</td>\n",
       "      <td>C</td>\n",
       "      <td>...</td>\n",
       "      <td>G</td>\n",
       "      <td>T</td>\n",
       "      <td>G</td>\n",
       "      <td>C</td>\n",
       "      <td>C</td>\n",
       "      <td>C</td>\n",
       "      <td>C</td>\n",
       "      <td>C</td>\n",
       "      <td>G</td>\n",
       "      <td>C</td>\n",
       "    </tr>\n",
       "    <tr>\n",
       "      <th>1</th>\n",
       "      <td>EI</td>\n",
       "      <td>G</td>\n",
       "      <td>A</td>\n",
       "      <td>G</td>\n",
       "      <td>G</td>\n",
       "      <td>T</td>\n",
       "      <td>G</td>\n",
       "      <td>A</td>\n",
       "      <td>A</td>\n",
       "      <td>G</td>\n",
       "      <td>...</td>\n",
       "      <td>C</td>\n",
       "      <td>A</td>\n",
       "      <td>C</td>\n",
       "      <td>G</td>\n",
       "      <td>G</td>\n",
       "      <td>G</td>\n",
       "      <td>G</td>\n",
       "      <td>A</td>\n",
       "      <td>T</td>\n",
       "      <td>G</td>\n",
       "    </tr>\n",
       "    <tr>\n",
       "      <th>2</th>\n",
       "      <td>EI</td>\n",
       "      <td>G</td>\n",
       "      <td>G</td>\n",
       "      <td>G</td>\n",
       "      <td>C</td>\n",
       "      <td>T</td>\n",
       "      <td>G</td>\n",
       "      <td>C</td>\n",
       "      <td>G</td>\n",
       "      <td>T</td>\n",
       "      <td>...</td>\n",
       "      <td>G</td>\n",
       "      <td>G</td>\n",
       "      <td>T</td>\n",
       "      <td>T</td>\n",
       "      <td>T</td>\n",
       "      <td>T</td>\n",
       "      <td>C</td>\n",
       "      <td>C</td>\n",
       "      <td>C</td>\n",
       "      <td>C</td>\n",
       "    </tr>\n",
       "    <tr>\n",
       "      <th>3</th>\n",
       "      <td>EI</td>\n",
       "      <td>G</td>\n",
       "      <td>C</td>\n",
       "      <td>T</td>\n",
       "      <td>C</td>\n",
       "      <td>A</td>\n",
       "      <td>G</td>\n",
       "      <td>C</td>\n",
       "      <td>C</td>\n",
       "      <td>C</td>\n",
       "      <td>...</td>\n",
       "      <td>C</td>\n",
       "      <td>C</td>\n",
       "      <td>T</td>\n",
       "      <td>T</td>\n",
       "      <td>G</td>\n",
       "      <td>A</td>\n",
       "      <td>C</td>\n",
       "      <td>C</td>\n",
       "      <td>C</td>\n",
       "      <td>T</td>\n",
       "    </tr>\n",
       "    <tr>\n",
       "      <th>4</th>\n",
       "      <td>EI</td>\n",
       "      <td>C</td>\n",
       "      <td>A</td>\n",
       "      <td>G</td>\n",
       "      <td>A</td>\n",
       "      <td>C</td>\n",
       "      <td>T</td>\n",
       "      <td>G</td>\n",
       "      <td>G</td>\n",
       "      <td>G</td>\n",
       "      <td>...</td>\n",
       "      <td>G</td>\n",
       "      <td>A</td>\n",
       "      <td>G</td>\n",
       "      <td>A</td>\n",
       "      <td>C</td>\n",
       "      <td>C</td>\n",
       "      <td>A</td>\n",
       "      <td>C</td>\n",
       "      <td>A</td>\n",
       "      <td>G</td>\n",
       "    </tr>\n",
       "  </tbody>\n",
       "</table>\n",
       "<p>5 rows × 61 columns</p>\n",
       "</div>"
      ],
      "text/plain": [
       "  class dna_1 dna_2 dna_3 dna_4 dna_5 dna_6 dna_7 dna_8 dna_9  ...   dna_51  \\\n",
       "0    EI     A     G     A     C     C     C     G     C     C  ...        G   \n",
       "1    EI     G     A     G     G     T     G     A     A     G  ...        C   \n",
       "2    EI     G     G     G     C     T     G     C     G     T  ...        G   \n",
       "3    EI     G     C     T     C     A     G     C     C     C  ...        C   \n",
       "4    EI     C     A     G     A     C     T     G     G     G  ...        G   \n",
       "\n",
       "  dna_52 dna_53 dna_54 dna_55 dna_56 dna_57 dna_58 dna_59 dna_60  \n",
       "0      T      G      C      C      C      C      C      G      C  \n",
       "1      A      C      G      G      G      G      A      T      G  \n",
       "2      G      T      T      T      T      C      C      C      C  \n",
       "3      C      T      T      G      A      C      C      C      T  \n",
       "4      A      G      A      C      C      A      C      A      G  \n",
       "\n",
       "[5 rows x 61 columns]"
      ]
     },
     "execution_count": 3,
     "metadata": {},
     "output_type": "execute_result"
    }
   ],
   "source": [
    "df_split = pp.split_features(df)\n",
    "df_split.head()"
   ]
  },
  {
   "cell_type": "markdown",
   "metadata": {},
   "source": [
    "Most of the values are A, C, T, G. Other values are in negligible quantities."
   ]
  },
  {
   "cell_type": "code",
   "execution_count": 4,
   "metadata": {},
   "outputs": [
    {
     "data": {
      "text/plain": [
       "C    0.262784\n",
       "G    0.262496\n",
       "T    0.241967\n",
       "A    0.232440\n",
       "N    0.000293\n",
       "D    0.000010\n",
       "R    0.000005\n",
       "S    0.000005\n",
       "dtype: float64"
      ]
     },
     "execution_count": 4,
     "metadata": {},
     "output_type": "execute_result"
    }
   ],
   "source": [
    "df_split_X, df_split_y = pp.separate_feature_class(df_split)\n",
    "pp.count_unique_percent(df_split_X)"
   ]
  },
  {
   "cell_type": "code",
   "execution_count": 6,
   "metadata": {
    "collapsed": true
   },
   "outputs": [],
   "source": [
    "odd_rows_dict = pp.get_odd_nucleotide_rows(df_split_X)\n",
    "df_filt = pp.remove_odd_nucleotide_rows(df_split, odd_rows_dict)\n",
    "df_filt_X, df_filt_y = pp.separate_feature_class(df_filt)"
   ]
  },
  {
   "cell_type": "code",
   "execution_count": 7,
   "metadata": {},
   "outputs": [
    {
     "data": {
      "text/html": [
       "<div>\n",
       "<style scoped>\n",
       "    .dataframe tbody tr th:only-of-type {\n",
       "        vertical-align: middle;\n",
       "    }\n",
       "\n",
       "    .dataframe tbody tr th {\n",
       "        vertical-align: top;\n",
       "    }\n",
       "\n",
       "    .dataframe thead th {\n",
       "        text-align: right;\n",
       "    }\n",
       "</style>\n",
       "<table border=\"1\" class=\"dataframe\">\n",
       "  <thead>\n",
       "    <tr style=\"text-align: right;\">\n",
       "      <th></th>\n",
       "      <th>class</th>\n",
       "      <th>dna_1_A</th>\n",
       "      <th>dna_1_C</th>\n",
       "      <th>dna_1_G</th>\n",
       "    </tr>\n",
       "  </thead>\n",
       "  <tbody>\n",
       "    <tr>\n",
       "      <th>0</th>\n",
       "      <td>EI</td>\n",
       "      <td>167</td>\n",
       "      <td>199</td>\n",
       "      <td>233</td>\n",
       "    </tr>\n",
       "    <tr>\n",
       "      <th>1</th>\n",
       "      <td>IE</td>\n",
       "      <td>153</td>\n",
       "      <td>235</td>\n",
       "      <td>183</td>\n",
       "    </tr>\n",
       "    <tr>\n",
       "      <th>2</th>\n",
       "      <td>N</td>\n",
       "      <td>418</td>\n",
       "      <td>398</td>\n",
       "      <td>458</td>\n",
       "    </tr>\n",
       "  </tbody>\n",
       "</table>\n",
       "</div>"
      ],
      "text/plain": [
       "  class  dna_1_A  dna_1_C  dna_1_G\n",
       "0    EI      167      199      233\n",
       "1    IE      153      235      183\n",
       "2     N      418      398      458"
      ]
     },
     "execution_count": 7,
     "metadata": {},
     "output_type": "execute_result"
    }
   ],
   "source": [
    "cols_dna = pp.get_split_col_names()\n",
    "df_groupby_class = pd.get_dummies(df_filt, columns=cols_dna).groupby(['class']).sum(axis=0)\n",
    "\n",
    "df_groupby_class.reset_index(level=0, inplace=True)\n",
    "df_groupby_class.iloc[:,0:4]"
   ]
  },
  {
   "cell_type": "code",
   "execution_count": 8,
   "metadata": {},
   "outputs": [
    {
     "data": {
      "text/plain": [
       "(array([7.20047844e+00, 8.60102421e+00, 6.29284394e+00, 2.88878111e+00,\n",
       "        6.78473047e+00, 1.36961666e+01, 2.34476944e+00, 3.41435879e+00,\n",
       "        1.46359486e+00, 2.93440471e+00, 3.81602045e+00, 2.69413433e+00,\n",
       "        7.28282863e+00, 1.89390560e+01, 9.48262421e+00, 2.89576210e+00,\n",
       "        6.81557238e+00, 2.85908020e+01, 3.01375848e+01, 5.14691153e+00,\n",
       "        9.87165684e+00, 9.22271414e+00, 4.68652017e+01, 1.40081467e+01,\n",
       "        2.13552965e+00, 3.55834581e+00, 1.32699159e+01, 1.54045854e+01,\n",
       "        2.63632371e+00, 7.89356469e+00, 1.74871070e+01, 1.31439191e+00,\n",
       "        5.33676726e+00, 1.21187539e+01, 6.79289059e+01, 3.18335160e+01,\n",
       "        2.08153934e+01, 3.02482422e+01, 4.14771090e+01, 2.75648010e+01,\n",
       "        1.67044276e+01, 4.25427444e+00, 1.58654580e+01, 1.32323949e+01,\n",
       "        1.43435760e+01, 4.65951762e+00, 2.61501117e+01, 2.66822757e+01,\n",
       "        3.80932288e+01, 2.99797325e+01, 3.01945533e+01, 2.08888126e+01,\n",
       "        3.81178695e+01, 3.41683356e+01, 2.29351229e+01, 2.21043762e+01,\n",
       "        2.91920002e+01, 4.01918284e+01, 3.52844080e+01, 3.08107119e+01,\n",
       "        5.66544268e+01, 2.71168987e+01, 4.48516317e+01, 5.52314152e+01,\n",
       "        6.39520373e+01, 2.29643190e+01, 3.87988353e+01, 7.45516521e+01,\n",
       "        7.46074205e+01, 2.07726937e+01, 4.68841871e+01, 9.07384752e+01,\n",
       "        9.37648774e+01, 2.43822681e+01, 5.45080492e+01, 9.44317288e+01,\n",
       "        1.08479634e+02, 3.16680210e+01, 4.91671128e+01, 9.97899609e+01,\n",
       "        6.61715298e+01, 1.82482196e+01, 8.06957845e+01, 1.05114690e+02,\n",
       "        6.60302607e+01, 1.70354982e+01, 6.03858698e+01, 1.12332537e+02,\n",
       "        1.15484473e+02, 4.86525746e+01, 5.34292262e+01, 7.71777169e+01,\n",
       "        6.92165809e+01, 7.84094606e+01, 1.18845817e+02, 4.92835962e+01,\n",
       "        1.23587289e+02, 9.68058643e+01, 1.24581880e+02, 8.52271994e+01,\n",
       "        9.08333309e+01, 5.29099642e+01, 8.98425894e+01, 7.57120084e+01,\n",
       "        2.44890636e+00, 5.22654552e+00, 8.34177550e+00, 9.38936196e+00,\n",
       "        1.85113674e+02, 3.75350008e+02, 1.99726995e+02, 2.58242104e+01,\n",
       "        5.97977867e+02, 2.10003872e+02, 1.94858095e+02, 2.07762912e+02,\n",
       "        2.47635783e+02, 3.23434617e+02, 6.00021974e+02, 2.38662617e+02,\n",
       "        1.96343546e+02, 1.90940138e+02, 5.43313577e+02, 2.32220196e+02,\n",
       "        1.86829688e+02, 1.74884053e+02, 1.77523401e+02, 6.62851720e+02,\n",
       "        1.17402517e+02, 1.63010047e+02, 9.35926336e+01, 1.63087686e+02,\n",
       "        3.94492985e+02, 8.21815155e+01, 4.87518907e+01, 9.08406534e+01,\n",
       "        1.12067797e+02, 1.39910285e+02, 6.14508831e+02, 1.22647589e+02,\n",
       "        1.90744298e+01, 3.61398433e+01, 1.40248529e+00, 9.11689017e+01,\n",
       "        1.00807594e+00, 3.61229076e+00, 2.66881921e+01, 2.27500363e+01,\n",
       "        1.40223640e+01, 1.44198042e+01, 1.78901025e+00, 2.28797842e+00,\n",
       "        1.55534300e+01, 1.14116672e+01, 5.30557084e+00, 4.39824347e+00,\n",
       "        2.25970902e+01, 2.54446633e-03, 1.58155316e+01, 2.12917941e+00,\n",
       "        2.31900969e+01, 9.90264909e-01, 3.21249322e+01, 9.68916089e+00,\n",
       "        1.01449901e+01, 2.84065538e+00, 9.12458401e+00, 3.96104259e+00,\n",
       "        1.67233020e+01, 1.03798572e+01, 1.07427593e+00, 1.58907748e+01,\n",
       "        3.44130393e+00, 1.66428591e+00, 6.03244465e+00, 5.51278562e+00,\n",
       "        9.11603112e+00, 4.40618267e+00, 5.32334872e-01, 1.79634231e+01,\n",
       "        1.40453235e+01, 1.75569713e+01, 4.36875176e+00, 7.61944782e+00,\n",
       "        1.94516063e+01, 2.47042454e+00, 1.97176325e+01, 6.34876342e+00,\n",
       "        1.03633156e+01, 3.39490419e+00, 1.94227137e+01, 9.27580761e+00,\n",
       "        2.17255819e+01, 7.71065956e+00, 3.95223582e+00, 7.64645172e+00,\n",
       "        1.49005300e+01, 5.93903601e-01, 1.32983372e+01, 3.27824522e-01,\n",
       "        4.36324211e+00, 2.61567564e-02, 3.17638852e+00, 1.19717831e+01,\n",
       "        9.33463227e+00, 4.46644382e-01, 8.89506308e+00, 1.35332958e+00,\n",
       "        4.64347839e+00, 1.52168091e+00, 9.15444421e+00, 1.84901427e+00,\n",
       "        1.29020253e+01, 1.05014709e+01, 1.52123310e+01, 1.25151790e+01,\n",
       "        2.31022395e+01, 8.13232451e+00, 8.03316374e+00, 7.31430175e+00,\n",
       "        1.38025154e+00, 8.23338712e+00, 1.12288943e+01, 6.56212508e+00,\n",
       "        9.33937368e+00, 3.84761052e+00, 2.44452579e+00, 1.42398764e+00,\n",
       "        1.27923043e+01, 3.94977933e-01, 8.47253477e+00, 9.83085588e+00,\n",
       "        5.10386809e+00, 8.50714418e-01, 6.99940446e+00, 2.94077493e+00,\n",
       "        9.33678858e+00, 4.71957318e+00, 2.81899595e+01, 9.30401321e+00]),\n",
       " array([2.73171869e-002, 1.35616123e-002, 4.30057277e-002, 2.35889795e-001,\n",
       "        3.36290421e-002, 1.06148828e-003, 3.09627685e-001, 1.81376664e-001,\n",
       "        4.81043570e-001, 2.30569636e-001, 1.48375327e-001, 2.60001686e-001,\n",
       "        2.62152411e-002, 7.71678239e-005, 8.72718768e-003, 2.35067858e-001,\n",
       "        3.31144284e-002, 6.18851200e-007, 2.85566079e-007, 7.62715131e-002,\n",
       "        7.18450670e-003, 9.93832214e-003, 6.65810676e-011, 9.08175125e-004,\n",
       "        3.43776058e-001, 1.68777685e-001, 1.31363395e-003, 4.51790166e-004,\n",
       "        2.67626787e-001, 1.93167565e-002, 1.59486143e-004, 5.18302644e-001,\n",
       "        6.93642530e-002, 2.33585585e-003, 1.77592859e-015, 1.22303765e-007,\n",
       "        3.01991522e-005, 2.70195218e-007, 9.84827603e-010, 1.03366428e-006,\n",
       "        2.35873763e-004, 1.19177986e-001, 3.58805897e-004, 1.33851102e-003,\n",
       "        7.67948410e-004, 9.73192168e-002, 2.09688876e-006, 1.60700578e-006,\n",
       "        5.34761905e-009, 3.09018016e-007, 2.77546691e-007, 2.91106551e-005,\n",
       "        5.28213874e-009, 3.80574951e-008, 1.04640868e-005, 1.58524244e-005,\n",
       "        4.58181666e-007, 1.87264459e-009, 2.17815190e-008, 2.03957138e-007,\n",
       "        4.98479764e-013, 1.29312430e-006, 1.82218269e-010, 1.01543138e-012,\n",
       "        1.29715404e-014, 1.03124413e-005, 3.75785443e-009, 6.47611346e-017,\n",
       "        6.29802665e-017, 3.08508323e-005, 6.59520230e-011, 1.97874784e-020,\n",
       "        4.35728114e-021, 5.07525365e-006, 1.45789921e-012, 3.12184000e-021,\n",
       "        2.77937269e-024, 1.32854602e-007, 2.10618788e-011, 2.14232483e-022,\n",
       "        4.27597215e-015, 1.09005762e-004, 3.00008144e-018, 1.49497884e-023,\n",
       "        4.58892613e-015, 1.99888846e-004, 7.71569355e-014, 4.04854953e-025,\n",
       "        8.37269700e-026, 2.72412895e-011, 2.50029322e-012, 1.74209449e-017,\n",
       "        9.32847026e-016, 9.41026732e-018, 1.55940428e-026, 1.98702374e-011,\n",
       "        1.45667031e-027, 9.52519022e-022, 8.85907517e-028, 3.11278268e-019,\n",
       "        1.88709081e-020, 3.24150923e-012, 3.09691725e-020, 3.62531931e-017,\n",
       "        2.93918376e-001, 7.32942762e-002, 1.54385485e-002, 9.14378397e-003,\n",
       "        6.35442664e-041, 3.11731921e-082, 4.26416670e-044, 2.46799319e-006,\n",
       "        1.41499833e-130, 2.50171944e-046, 4.86521791e-043, 7.67108683e-046,\n",
       "        1.68489530e-054, 5.84877919e-071, 5.09194594e-131, 1.49648129e-052,\n",
       "        2.31494561e-043, 3.45045119e-042, 1.04943533e-118, 3.74994774e-051,\n",
       "        2.69431755e-041, 1.05781687e-038, 2.82672241e-039, 1.15765157e-144,\n",
       "        3.20898180e-026, 4.00698739e-036, 4.74917136e-021, 3.85441990e-036,\n",
       "        2.17238506e-086, 1.42728486e-018, 2.59215790e-011, 1.88019433e-020,\n",
       "        4.62154424e-025, 4.15783876e-031, 3.64001248e-134, 2.33031367e-027,\n",
       "        7.21174225e-005, 1.42014519e-008, 4.95968608e-001, 1.59560188e-020,\n",
       "        6.04086444e-001, 1.64286178e-001, 1.60225900e-006, 1.14786915e-005,\n",
       "        9.01742116e-004, 7.39229530e-004, 4.08809858e-001, 3.18545738e-001,\n",
       "        4.19387608e-004, 3.32650329e-003, 7.04546936e-002, 1.10900516e-001,\n",
       "        1.23909389e-005, 9.98728576e-001, 3.67875579e-004, 3.44869323e-001,\n",
       "        9.21158673e-006, 6.09490172e-001, 1.05720598e-007, 7.87091904e-003,\n",
       "        6.26676482e-003, 2.41634822e-001, 1.04381073e-002, 1.37997281e-001,\n",
       "        2.33658249e-004, 5.57240475e-003, 5.84418489e-001, 3.54292606e-004,\n",
       "        1.78949441e-001, 4.35115852e-001, 4.89859222e-002, 6.35204862e-002,\n",
       "        1.04828409e-002, 1.10461158e-001, 7.66310809e-001, 1.25687546e-004,\n",
       "        8.91449530e-004, 1.54011134e-004, 1.12547955e-001, 2.21542947e-002,\n",
       "        5.97224138e-005, 2.90773033e-001, 5.22842053e-005, 4.18199530e-002,\n",
       "        5.61868398e-003, 1.83149578e-001, 6.05914461e-005, 9.67796326e-003,\n",
       "        1.91579848e-005, 2.11666219e-002, 1.38606276e-001, 2.18571788e-002,\n",
       "        5.81287557e-004, 7.43079828e-001, 1.29509839e-003, 8.48816493e-001,\n",
       "        1.12858433e-001, 9.87006772e-001, 2.04294181e-001, 2.51397145e-003,\n",
       "        9.39745720e-003, 7.99857101e-001, 1.17074307e-002, 5.08309488e-001,\n",
       "        9.81028174e-002, 4.67273539e-001, 1.02834229e-002, 3.96726903e-001,\n",
       "        1.57892250e-003, 5.24366060e-003, 4.97375400e-004, 1.91585838e-003,\n",
       "        9.62525925e-006, 1.71430531e-002, 1.80144355e-002, 2.58059324e-002,\n",
       "        5.01512989e-001, 1.62983148e-002, 3.64482412e-003, 3.75882965e-002,\n",
       "        9.37520499e-003, 1.46050145e-001, 2.94562847e-001, 4.90664925e-001,\n",
       "        1.66796298e-003, 8.20789197e-001, 1.44614704e-002, 7.33257933e-003,\n",
       "        7.79307984e-002, 6.53536294e-001, 3.02063766e-002, 2.29836415e-001,\n",
       "        9.38733078e-003, 9.44403755e-002, 7.56185013e-007, 9.54243480e-003]))"
      ]
     },
     "execution_count": 8,
     "metadata": {},
     "output_type": "execute_result"
    }
   ],
   "source": [
    "feature_selection.chi2(pd.get_dummies(df_filt_X), pd.get_dummies(df_filt_y))"
   ]
  },
  {
   "cell_type": "markdown",
   "metadata": {
    "collapsed": true
   },
   "source": [
    "# Visual data information"
   ]
  },
  {
   "cell_type": "code",
   "execution_count": null,
   "metadata": {
    "collapsed": true
   },
   "outputs": [],
   "source": [
    "hue_order = df_filt['class'].unique()\n",
    "ax = sns.countplot(x='class', data=df_filt, order=hue_order)\n",
    "ax.set(xlabel='', ylabel='Broj uzoraka')\n",
    "plt.savefig(\"images/dataset_class_dist.png\")"
   ]
  },
  {
   "cell_type": "code",
   "execution_count": null,
   "metadata": {
    "collapsed": true
   },
   "outputs": [],
   "source": [
    "\n",
    "df_train, df_test = model_selection.train_test_split(df_filt, test_size=0.2, stratify=df_filt['class'], random_state=5)\n",
    "\n",
    "df_train.to_csv(\"data/splice_train.csv\", index=False)\n",
    "df_test.to_csv(\"data/splice_test.csv\", index=False)\n",
    "df_train.head()"
   ]
  },
  {
   "cell_type": "code",
   "execution_count": null,
   "metadata": {
    "collapsed": true
   },
   "outputs": [],
   "source": [
    "ax = sns.countplot(x='class', data=df_train, order = hue_order)\n",
    "ax.set(xlabel='', ylabel='Broj uzoraka')\n",
    "plt.savefig(\"images/trainset_class_dist.jpg\")"
   ]
  },
  {
   "cell_type": "code",
   "execution_count": null,
   "metadata": {
    "collapsed": true
   },
   "outputs": [],
   "source": [
    "ax = sns.countplot(x='class', data=df_test, order=hue_order)\n",
    "ax.set(xlabel='', ylabel='Broj uzoraka')\n",
    "plt.savefig(\"images/testset_class_dist.jpg\")"
   ]
  },
  {
   "cell_type": "code",
   "execution_count": null,
   "metadata": {
    "collapsed": true
   },
   "outputs": [],
   "source": [
    "ax = df_groupby_class.set_index('class').T.plot(kind='bar', stacked=True)\n",
    "ax.set(xlabel='', ylabel='Broj uzoraka')"
   ]
  },
  {
   "cell_type": "code",
   "execution_count": null,
   "metadata": {
    "collapsed": true
   },
   "outputs": [],
   "source": [
    "plt.savefig(\"images/nucleotids_byclass.jpg\")"
   ]
  },
  {
   "cell_type": "markdown",
   "metadata": {},
   "source": [
    "# Weka"
   ]
  },
  {
   "cell_type": "code",
   "execution_count": 2,
   "metadata": {},
   "outputs": [
    {
     "name": "stderr",
     "output_type": "stream",
     "text": [
      "DEBUG:weka.core.jvm:Adding bundled jars\n",
      "DEBUG:weka.core.jvm:Adding system classpath\n",
      "DEBUG:weka.core.jvm:Classpath=['/usr/local/lib/python3.5/dist-packages/javabridge/jars/rhino-1.7R4.jar', '/usr/local/lib/python3.5/dist-packages/javabridge/jars/runnablequeue.jar', '/usr/local/lib/python3.5/dist-packages/javabridge/jars/cpython.jar', '/usr/local/lib/python3.5/dist-packages/weka/lib/python-weka-wrapper.jar', '/usr/local/lib/python3.5/dist-packages/weka/lib/weka.jar']\n",
      "DEBUG:weka.core.jvm:MaxHeapSize=512m\n",
      "DEBUG:weka.core.jvm:Package support enabled\n",
      "DEBUG:javabridge.jutil:Creating JVM object\n",
      "DEBUG:javabridge.jutil:Signalling caller\n"
     ]
    },
    {
     "ename": "JavaException",
     "evalue": "<Java object at 0x2db04a8>",
     "output_type": "error",
     "traceback": [
      "\u001b[0;31m---------------------------------------------------------------------------\u001b[0m",
      "\u001b[0;31mJavaException\u001b[0m                             Traceback (most recent call last)",
      "\u001b[0;32m<ipython-input-2-b780b0700e1e>\u001b[0m in \u001b[0;36m<module>\u001b[0;34m()\u001b[0m\n\u001b[1;32m      1\u001b[0m \u001b[0;32mimport\u001b[0m \u001b[0mweka\u001b[0m\u001b[0;34m.\u001b[0m\u001b[0mcore\u001b[0m\u001b[0;34m.\u001b[0m\u001b[0mjvm\u001b[0m \u001b[0;32mas\u001b[0m \u001b[0mjvm\u001b[0m\u001b[0;34m\u001b[0m\u001b[0m\n\u001b[0;32m----> 2\u001b[0;31m \u001b[0mjvm\u001b[0m\u001b[0;34m.\u001b[0m\u001b[0mstart\u001b[0m\u001b[0;34m(\u001b[0m\u001b[0mmax_heap_size\u001b[0m\u001b[0;34m=\u001b[0m\u001b[0;34m\"512m\"\u001b[0m\u001b[0;34m,\u001b[0m \u001b[0msystem_cp\u001b[0m\u001b[0;34m=\u001b[0m\u001b[0;32mTrue\u001b[0m\u001b[0;34m,\u001b[0m \u001b[0mpackages\u001b[0m\u001b[0;34m=\u001b[0m\u001b[0;32mTrue\u001b[0m\u001b[0;34m)\u001b[0m\u001b[0;34m\u001b[0m\u001b[0m\n\u001b[0m",
      "\u001b[0;32m/usr/local/lib/python3.5/dist-packages/weka/core/jvm.py\u001b[0m in \u001b[0;36mstart\u001b[0;34m(class_path, bundled, packages, system_cp, max_heap_size)\u001b[0m\n\u001b[1;32m    120\u001b[0m         \u001b[0;34m\"Lweka/core/WekaPackageManager;\"\u001b[0m\u001b[0;34m,\u001b[0m \u001b[0;34m\"loadPackages\"\u001b[0m\u001b[0;34m,\u001b[0m\u001b[0;34m\u001b[0m\u001b[0m\n\u001b[1;32m    121\u001b[0m         \u001b[0;34m\"(Z)V\"\u001b[0m\u001b[0;34m,\u001b[0m\u001b[0;34m\u001b[0m\u001b[0m\n\u001b[0;32m--> 122\u001b[0;31m         False)\n\u001b[0m\u001b[1;32m    123\u001b[0m \u001b[0;34m\u001b[0m\u001b[0m\n\u001b[1;32m    124\u001b[0m \u001b[0;34m\u001b[0m\u001b[0m\n",
      "\u001b[0;32m/usr/local/lib/python3.5/dist-packages/javabridge/jutil.py\u001b[0m in \u001b[0;36mstatic_call\u001b[0;34m(class_name, method_name, sig, *args)\u001b[0m\n\u001b[1;32m    936\u001b[0m     \u001b[0mret_sig\u001b[0m \u001b[0;34m=\u001b[0m \u001b[0msig\u001b[0m\u001b[0;34m[\u001b[0m\u001b[0msig\u001b[0m\u001b[0;34m.\u001b[0m\u001b[0mfind\u001b[0m\u001b[0;34m(\u001b[0m\u001b[0;34m')'\u001b[0m\u001b[0;34m)\u001b[0m\u001b[0;34m+\u001b[0m\u001b[0;36m1\u001b[0m\u001b[0;34m:\u001b[0m\u001b[0;34m]\u001b[0m\u001b[0;34m\u001b[0m\u001b[0m\n\u001b[1;32m    937\u001b[0m     \u001b[0mnice_args\u001b[0m \u001b[0;34m=\u001b[0m \u001b[0mget_nice_args\u001b[0m\u001b[0;34m(\u001b[0m\u001b[0margs\u001b[0m\u001b[0;34m,\u001b[0m \u001b[0margs_sig\u001b[0m\u001b[0;34m)\u001b[0m\u001b[0;34m\u001b[0m\u001b[0m\n\u001b[0;32m--> 938\u001b[0;31m     \u001b[0mresult\u001b[0m \u001b[0;34m=\u001b[0m \u001b[0mfn\u001b[0m\u001b[0;34m(\u001b[0m\u001b[0;34m*\u001b[0m\u001b[0mnice_args\u001b[0m\u001b[0;34m)\u001b[0m\u001b[0;34m\u001b[0m\u001b[0m\n\u001b[0m\u001b[1;32m    939\u001b[0m     \u001b[0;32mreturn\u001b[0m \u001b[0mget_nice_result\u001b[0m\u001b[0;34m(\u001b[0m\u001b[0mresult\u001b[0m\u001b[0;34m,\u001b[0m \u001b[0mret_sig\u001b[0m\u001b[0;34m)\u001b[0m\u001b[0;34m\u001b[0m\u001b[0m\n\u001b[1;32m    940\u001b[0m \u001b[0;34m\u001b[0m\u001b[0m\n",
      "\u001b[0;32m/usr/local/lib/python3.5/dist-packages/javabridge/jutil.py\u001b[0m in \u001b[0;36mfn\u001b[0;34m(*args)\u001b[0m\n\u001b[1;32m    916\u001b[0m         \u001b[0mjexception\u001b[0m \u001b[0;34m=\u001b[0m \u001b[0menv\u001b[0m\u001b[0;34m.\u001b[0m\u001b[0mexception_occurred\u001b[0m\u001b[0;34m(\u001b[0m\u001b[0;34m)\u001b[0m\u001b[0;34m\u001b[0m\u001b[0m\n\u001b[1;32m    917\u001b[0m         \u001b[0;32mif\u001b[0m \u001b[0mjexception\u001b[0m \u001b[0;32mis\u001b[0m \u001b[0;32mnot\u001b[0m \u001b[0;32mNone\u001b[0m\u001b[0;34m:\u001b[0m\u001b[0;34m\u001b[0m\u001b[0m\n\u001b[0;32m--> 918\u001b[0;31m             \u001b[0;32mraise\u001b[0m \u001b[0mJavaException\u001b[0m\u001b[0;34m(\u001b[0m\u001b[0mjexception\u001b[0m\u001b[0;34m)\u001b[0m\u001b[0;34m\u001b[0m\u001b[0m\n\u001b[0m\u001b[1;32m    919\u001b[0m         \u001b[0;32mreturn\u001b[0m \u001b[0mresult\u001b[0m\u001b[0;34m\u001b[0m\u001b[0m\n\u001b[1;32m    920\u001b[0m     \u001b[0;32mreturn\u001b[0m \u001b[0mfn\u001b[0m\u001b[0;34m\u001b[0m\u001b[0m\n",
      "\u001b[0;31mJavaException\u001b[0m: <Java object at 0x2db04a8>"
     ]
    }
   ],
   "source": [
    "import weka.core.jvm as jvm\n",
    "jvm.start(max_heap_size=\"512m\", system_cp=True, packages=True)"
   ]
  },
  {
   "cell_type": "code",
   "execution_count": 4,
   "metadata": {
    "collapsed": true
   },
   "outputs": [],
   "source": [
    "from weka.core.converters import Loader, Saver\n",
    "loader = Loader(classname=\"weka.core.converters.CSVLoader\")\n",
    "data_train = loader.load_file(\"data/splice_train.csv\")\n",
    "data_test = loader.load_file(\"data/splice_train.csv\")\n",
    "data_train.class_is_first()\n",
    "data_test.class_is_first()"
   ]
  },
  {
   "cell_type": "code",
   "execution_count": null,
   "metadata": {
    "collapsed": true
   },
   "outputs": [],
   "source": []
  },
  {
   "cell_type": "code",
   "execution_count": null,
   "metadata": {
    "collapsed": true
   },
   "outputs": [],
   "source": []
  },
  {
   "cell_type": "code",
   "execution_count": null,
   "metadata": {
    "collapsed": true
   },
   "outputs": [],
   "source": [
    "print(\"# attributes: \" + str(attsel.number_attributes_selected))\n",
    "print(\"attributes: \" + str(attsel.selected_attributes))\n",
    "print(\"result string:\\n\" + attsel.results_string)"
   ]
  },
  {
   "cell_type": "code",
   "execution_count": null,
   "metadata": {
    "collapsed": true
   },
   "outputs": [],
   "source": []
  },
  {
   "cell_type": "code",
   "execution_count": null,
   "metadata": {
    "collapsed": true
   },
   "outputs": [],
   "source": []
  },
  {
   "cell_type": "code",
   "execution_count": null,
   "metadata": {
    "collapsed": true
   },
   "outputs": [],
   "source": []
  },
  {
   "cell_type": "code",
   "execution_count": 9,
   "metadata": {},
   "outputs": [
    {
     "name": "stdout",
     "output_type": "stream",
     "text": [
      "AffectiveTweets https://github.com/felipebravom/AffectiveTweets/releases/download/1.0.0/AffectiveTweets1.0.0.zip\n",
      "AnDE http://prdownloads.sourceforge.net/averagedndepend/AnDE1.2.1.zip?download\n",
      "AnalogicalModeling https://github.com/garfieldnate/Weka_AnalogicalModeling/releases/download/0.04/Weka_AnalogicalModeling-0.04.zip\n",
      "ArabicStemmers_LightStemmers http://prdownloads.sourceforge.net/ar-text-mining/ArabicStemmers_LightStemmers_1.0.0.zip?download\n",
      "Auto-WEKA http://www.cs.ubc.ca/labs/beta/Projects/autoweka/autoweka-2.6.1.zip\n",
      "CAAR http://downloads.sourceforge.net/project/caar/CAAR.zip\n",
      "CHIRP https://www.cs.uic.edu/~tdang/file/CHIRP1.0.1.zip\n",
      "CLOPE http://prdownloads.sourceforge.net/weka/CLOPE1.0.1.zip?download\n",
      "CVAttributeEval http://prdownloads.sourceforge.net/fsvc/CVAttributeEval1.0.0.zip?download\n",
      "DMNBtext http://prdownloads.sourceforge.net/weka/DMNBtext1.0.1.zip?download\n",
      "DTNB http://prdownloads.sourceforge.net/weka/DTNB1.0.4.zip?download\n",
      "DilcaDistance http://prdownloads.sourceforge.net/weka/DilcaDistance1.0.1.zip?download\n",
      "DistributionBasedBalance http://www.dsi.uclm.es/personal/PabloBermejo/downloads/DistributionBasedBalance1.0.0.zip\n",
      "EAR4 http://downloads.sourceforge.net/project/ear4/EAR4.zip\n",
      "EBMC https://github.com/arturolp/ebmc-weka/releases/download/v1.0/ebmc.zip\n",
      "EMImputation http://prdownloads.sourceforge.net/weka/EMImputation1.0.1.zip?download\n",
      "EvolutionarySearch https://github.com/sebastian-luna-valero/EvolutionarySearch/releases/download/1.0.2/EvolutionarySearch.zip\n",
      "ForestPA http://csusap.csu.edu.au/~zislam/code/ForestPA.zip\n",
      "GPAttributeGeneration http://gradients.lboro.ac.uk/cocn3/weka-GPAttributeGeneration1.0.0.zip\n",
      "HMM https://github.com/marcogillies/HMMWeka/releases/download/v1.1/HMM.zip\n",
      "IBkLG https://github.com/sheshas/IBkLG/blob/master/IBkLG.zip?raw=true\n",
      "IPCP https://github.com/glaubercini/ipcp/raw/master/packages/IPCP_1_0_1.zip\n",
      "IWSS http://www.dsi.uclm.es/personal/PabloBermejo/downloads/IWSS1.0.0.zip\n",
      "IWSSembeddedNB http://www.dsi.uclm.es/personal/PabloBermejo/downloads/IWSSembeddedNB1.0.0.zip\n",
      "J48Consolidated http://www.aldapa.eus/res/weka-ctc/J48Consolidated-v3.1.zip\n",
      "J48graft http://prdownloads.sourceforge.net/weka/J48graft1.1.5.zip?download\n",
      "JCDT http://flanagan.ugr.es/weka/JCDT.zip\n",
      "JDBCDriversDummyPackage http://prdownloads.sourceforge.net/weka/JDBCDriversDummyPackage1.0.1.zip?download\n",
      "LVQ http://prdownloads.sourceforge.net/wekann/LVQ1.0.1.zip?download\n",
      "LibLINEAR http://prdownloads.sourceforge.net/weka/LibLINEAR1.9.8.zip?download\n",
      "LibSVM http://prdownloads.sourceforge.net/weka/LibSVM1.0.10.zip?download\n",
      "MODLEM http://prdownloads.sourceforge.net/modlem/package-modlem1.0.0.zip?download\n",
      "MTreeClusterer http://prdownloads.sourceforge.net/wekamtreeclusterer/MTree.zip\n",
      "MultiObjectiveEvolutionaryFuzzyClassifier http://prdownloads.sourceforge.net/moefc/MultiObjectiveEvolutionaryFuzzyClassifier1.0.0.zip?download\n",
      "MultiObjectiveEvolutionarySearch http://downloads.sourceforge.net/project/moea/MultiObjectiveEvolutionarySearch1.0.0.zip\n",
      "NNge http://prdownloads.sourceforge.net/weka/NNge1.0.3.zip?download\n",
      "OpenmlWeka https://github.com/openml/openml-weka/releases/download/openmlweka-0.9.5/OpenmlWeka.zip\n",
      "PSOSearch https://github.com/sebastian-luna-valero/PSOSearch/releases/download/1.2.0/PSOSearch.zip\n",
      "RBFNetwork http://prdownloads.sourceforge.net/weka/RBFNetwork1.0.8.zip?download\n",
      "RPlugin http://prdownloads.sourceforge.net/weka/RPlugin1.3.25.zip?download\n",
      "RankCorrelation https://github.com/felipebravom/RankCorrelation/releases/download/v1.0.0/RankCorrelation1.0.0.zip\n",
      "RankerByDTClassification http://downloads.sourceforge.net/project/wekarankerbydtclassification/v5/RankerByDTClassification.zip\n",
      "RerankingSearch http://www.dsi.uclm.es/personal/PabloBermejo/downloads/RerankingSearch1.1.0.zip\n",
      "Rseslib http://rseslib.mimuw.edu.pl/weka/Rseslib3.1.2.zip\n",
      "SMOTE http://prdownloads.sourceforge.net/weka/SMOTE1.0.3.zip?download\n",
      "SPMFWrapper https://github.com/chrispy645/spmf-wrapper/releases/download/0.0.2/spmfWrapper.zip\n",
      "SPegasos http://prdownloads.sourceforge.net/weka/SPegasos1.0.1.zip?download\n",
      "SSF https://sites.google.com/site/covoes/SSF_Package.zip\n",
      "SVMAttributeEval http://prdownloads.sourceforge.net/weka/SVMAttributeEval1.0.1.zip?download\n",
      "SelfOrganizingMap http://prdownloads.sourceforge.net/wekann/SelfOrganizingMap1.0.3.zip?download\n",
      "SparseGenerativeModel http://prdownloads.sourceforge.net/sgmweka/SparseGenerativeModel.zip?download\n",
      "StudentFilters https://github.com/cgearhart/students-filters/raw/master/StudentFilters.zip\n",
      "SysFor http://csusap.csu.edu.au/~zislam/code/SysForWeka.zip\n",
      "TPP https://storage.googleapis.com/google-code-archive-downloads/v2/code.google.com/targeted-projection-pursuit/TPP-1.0.6.zip\n",
      "WekaExcel http://prdownloads.sourceforge.net/weka/WekaExcel1.0.7.zip?download\n",
      "WekaODF http://prdownloads.sourceforge.net/weka/WekaODF1.0.4.zip?download\n",
      "WekaPyScript http://github.com/christopher-beckham/weka-pyscript/releases/download/0.5.1/WekaPyScript.zip\n",
      "XMeans http://prdownloads.sourceforge.net/weka/XMeans1.0.4.zip?download\n",
      "alternatingDecisionTrees http://prdownloads.sourceforge.net/weka/alternatingDecisionTrees1.0.6.zip?download\n",
      "alternatingModelTrees http://prdownloads.sourceforge.net/weka/alternatingModelTrees1.0.0.zip?download\n",
      "anonymizationPackage http://userpage.fu-berlin.de/semu/software/weka/anonymization1.0.1.zip\n",
      "arxAnonymizer https://raw.githubusercontent.com/farbtrommel/arx-weka/master/package/arxAnonymizer1.0.0.zip\n",
      "associationRulesVisualizer http://prdownloads.sourceforge.net/weka/associationRulesVisualizer1.0.3.zip?download\n",
      "attributeSelectionSearchMethods http://prdownloads.sourceforge.net/weka/attributeSelectionSearchMethods1.0.7.zip?download\n",
      "baggedLocalOutlierFactor http://people.cs.umass.edu/~lfriedl/code/baggedLocalOutlierFactor.zip\n",
      "bayesianLogisticRegression http://prdownloads.sourceforge.net/weka/bayesianLogisticRegression1.0.5.zip?download\n",
      "bestFirstTree http://prdownloads.sourceforge.net/weka/bestFirstTree1.0.4.zip?download\n",
      "cascadeKMeans http://prdownloads.sourceforge.net/weka/cascadeKMeans1.0.4.zip?download\n",
      "cassandraConverters http://prdownloads.sourceforge.net/weka/cassandraConverters1.0.1.zip?download\n",
      "chiSquaredAttributeEval http://prdownloads.sourceforge.net/weka/chiSquaredAttributeEval1.0.4.zip?download\n",
      "citationKNN http://prdownloads.sourceforge.net/weka/citationKNN1.0.1.zip?download\n",
      "classAssociationRules http://prdownloads.sourceforge.net/weka/classAssociationRules1.0.3.zip?download\n",
      "classificationViaClustering http://prdownloads.sourceforge.net/weka/classificationViaClustering1.0.8.zip?download\n",
      "classificationViaRegression http://prdownloads.sourceforge.net/weka/classificationViaRegression1.0.1.zip?download\n",
      "classifierBasedAttributeSelection http://prdownloads.sourceforge.net/weka/classifierBasedAttributeSelection1.0.5.zip?download\n",
      "classifierErrors http://prdownloads.sourceforge.net/weka/classifierErrors1.0.1.zip?download\n",
      "clojureClassifier http://prdownloads.sourceforge.net/weka/clojureClassifier1.0.1.zip?download\n",
      "complementNaiveBayes http://prdownloads.sourceforge.net/weka/complementNaiveBayes1.0.3.zip?download\n",
      "conjunctiveRule http://prdownloads.sourceforge.net/weka/conjunctiveRule1.0.4.zip?download\n",
      "consistencySubsetEval http://prdownloads.sourceforge.net/weka/consistencySubsetEval1.0.5.zip?download\n",
      "costSensitiveAttributeSelection http://prdownloads.sourceforge.net/weka/costSensitiveAttributeSelection1.0.3.zip?download\n",
      "dagging http://prdownloads.sourceforge.net/weka/dagging1.0.3.zip?download\n",
      "decorate http://prdownloads.sourceforge.net/weka/decorate1.0.2.zip?download\n",
      "denormalize http://prdownloads.sourceforge.net/weka/denormalize1.0.3.zip?download\n",
      "discriminantAnalysis http://prdownloads.sourceforge.net/weka/discriminantAnalysis1.0.2.zip?download\n",
      "distributedWekaBase http://downloads.sourceforge.net/project/weka/weka-packages/distributedWekaBase1.1.17.zip\n",
      "distributedWekaHadoop http://prdownloads.sourceforge.net/weka/distributedWekaHadoop1.1.17.zip?download\n",
      "distributedWekaHadoop2 http://prdownloads.sourceforge.net/weka/distributedWekaHadoop21.1.17.zip?download\n",
      "distributedWekaHadoop2Libs http://prdownloads.sourceforge.net/weka/distributedWekaHadoop2Libs1.0.1.zip?download\n",
      "distributedWekaHadoopCore http://prdownloads.sourceforge.net/weka/distributedWekaHadoopCore1.1.22.zip?download\n",
      "distributedWekaHadoopLibs http://prdownloads.sourceforge.net/weka/distributedWekaHadoopLibs1.0.1.zip?download\n",
      "distributedWekaSpark http://downloads.sourceforge.net/weka/weka-packages/distributedWekaSpark1.1.9.zip\n",
      "distributedWekaSparkDev http://downloads.sourceforge.net/weka/weka-packages/distributedWekaSparkDev1.1.1.zip\n",
      "elasticNet http://prdownloads.sourceforge.net/weka/elasticNet1.0.0.zip?download\n",
      "ensembleLibrary http://prdownloads.sourceforge.net/weka/ensembleLibrary1.0.6.zip?download\n",
      "ensemblesOfNestedDichotomies http://prdownloads.sourceforge.net/weka/ensemblesOfNestedDichotomies1.0.6.zip?download\n",
      "extraTrees http://prdownloads.sourceforge.net/weka/extraTrees1.0.2.zip?download\n",
      "fastCorrBasedFS http://prdownloads.sourceforge.net/weka/fastCorrBasedFS1.0.1.zip?download\n",
      "filteredAttributeSelection http://prdownloads.sourceforge.net/weka/filteredAttributeSelection1.0.1.zip?download\n",
      "functionalTrees http://prdownloads.sourceforge.net/weka/functionalTrees1.0.4.zip?download\n",
      "fuzzyLaticeReasoning http://prdownloads.sourceforge.net/weka/fuzzyLaticeReasoning1.0.1.zip?download\n",
      "fuzzyUnorderedRuleInduction http://prdownloads.sourceforge.net/weka/fuzzyUnorderedRuleInduction1.0.2.zip?download\n",
      "gaussianProcesses http://prdownloads.sourceforge.net/weka/gaussianProcesses1.0.1.zip?download\n",
      "generalizedSequentialPatterns http://prdownloads.sourceforge.net/weka/generalizedSequentialPatterns1.0.1.zip?download\n",
      "grading http://prdownloads.sourceforge.net/weka/grading1.0.1.zip?download\n",
      "graphgram http://voltaic-sandbox-523.appspot.com/downloads/graphgram_weka_20140513.zip\n",
      "gridSearch http://prdownloads.sourceforge.net/weka/gridSearch1.0.11.zip?download\n",
      "hiddenNaiveBayes http://prdownloads.sourceforge.net/weka/hiddenNaiveBayes1.0.1.zip?download\n",
      "hiveJDBC http://prdownloads.sourceforge.net/weka/hiveJDBC1.0.0.zip?download\n",
      "hotSpot http://prdownloads.sourceforge.net/weka/hotSpot1.0.5.zip?download\n",
      "hyperPipes http://prdownloads.sourceforge.net/weka/hyperPipes1.0.1.zip?download\n",
      "imageFilters https://github.com/mmayo888/ImageFilter/blob/master/imageFilters1.0.3.zip?raw=true\n",
      "isolationForest http://prdownloads.sourceforge.net/weka/isolationForest1.0.2.zip?download\n",
      "isotonicRegression http://prdownloads.sourceforge.net/weka/isotonicRegression1.0.1.zip?download\n",
      "iterativeAbsoluteErrorRegression http://prdownloads.sourceforge.net/weka/iterativeAbsoluteErrorRegression1.0.0.zip?download\n",
      "jfreechartOffscreenRenderer http://prdownloads.sourceforge.net/weka/jfreechartOffscreenRenderer1.0.5.zip?download\n",
      "jsonFieldExtractor http://prdownloads.sourceforge.net/weka/jsonFieldExtractor1.0.0.zip?download\n",
      "kernelLogisticRegression http://prdownloads.sourceforge.net/weka/kernelLogisticRegression1.0.0.zip?download\n",
      "kfGroovy http://prdownloads.sourceforge.net/weka/kfGroovy1.0.14.zip?download\n",
      "kfKettle http://prdownloads.sourceforge.net/weka/kfKettle1.0.4.zip?download\n",
      "kfPMMLClassifierScoring http://prdownloads.sourceforge.net/weka/kfPMMLClassifierScoring1.0.2.zip?download\n",
      "largeScaleKernelLearning http://prdownloads.sourceforge.net/weka/largeScaleKernelLearning1.0.4.zip?download\n",
      "latentSemanticAnalysis http://prdownloads.sourceforge.net/weka/latentSemanticAnalysis1.0.5.zip?download\n",
      "lazyAssociativeClassifier https://storage.googleapis.com/google-code-archive-downloads/v2/code.google.com/machine-learning-dcc-ufmg/lazy-associative-classifier-1.0.0.zip\n",
      "lazyBayesianRules http://prdownloads.sourceforge.net/weka/lazyBayesianRules1.0.1.zip?download\n",
      "leastMedSquared http://prdownloads.sourceforge.net/weka/leastMedSquared1.0.1.zip?download\n",
      "levenshteinEditDistance http://prdownloads.sourceforge.net/weka/levenshteinEditDistance1.0.1.zip?download\n",
      "linearForwardSelection http://prdownloads.sourceforge.net/weka/linearForwardSelection1.0.1.zip?download\n",
      "localOutlierFactor http://prdownloads.sourceforge.net/weka/localOutlierFactor1.0.6.zip?download\n",
      "logarithmicErrorMetrics http://prdownloads.sourceforge.net/weka/logarithmicErrorMetrics1.0.0.zip?download\n",
      "massiveOnlineAnalysis http://prdownloads.sourceforge.net/weka/massiveOnlineAnalysis1.0.3.zip?download\n",
      "metaCost http://prdownloads.sourceforge.net/weka/metaCost1.0.3.zip?download\n",
      "metaphorSearchMethods http://prdownloads.sourceforge.net/geneticsearch-weka/metaphorSearchMethods.zip?download\n",
      "multiBoostAB http://prdownloads.sourceforge.net/weka/multiBoostAB1.0.1.zip?download\n",
      "multiInstanceFilters http://prdownloads.sourceforge.net/weka/multiInstanceFilters1.0.9.zip?download\n",
      "multiInstanceLearning http://prdownloads.sourceforge.net/weka/multiInstanceLearning1.0.10.zip?download\n",
      "multiLayerPerceptrons http://prdownloads.sourceforge.net/weka/multiLayerPerceptrons1.0.10.zip?download\n",
      "multilayerPerceptronCS http://prdownloads.sourceforge.net/weka/multilayerPerceptronCS1.0.1.zip?download\n",
      "multisearch https://github.com/fracpete/multisearch-weka-package/releases/download/v2017.3.28/multisearch-2017.3.28.zip\n",
      "naiveBayesTree http://prdownloads.sourceforge.net/weka/naiveBayesTree1.0.4.zip?download\n",
      "netlibNativeLinux http://prdownloads.sourceforge.net/weka/netlibNativeLinux1.0.2.zip?download\n",
      "netlibNativeOSX http://prdownloads.sourceforge.net/weka/netlibNativeOSX1.0.1.zip?download\n",
      "netlibNativeWindows http://prdownloads.sourceforge.net/weka/netlibNativeWindows1.0.1.zip?download\n",
      "newKnowledgeFlowStepExamples http://prdownloads.sourceforge.net/weka/newKnowledgeFlowStepExamples1.0.0.zip?download\n",
      "niftiLoader http://prdownloads.sourceforge.net/weka/niftiLoader1.0.1.zip?download\n",
      "normalize http://prdownloads.sourceforge.net/weka/normalize1.0.1.zip?download\n",
      "oneClassClassifier http://prdownloads.sourceforge.net/weka/oneClassClassifier1.0.4.zip?download\n",
      "optics_dbScan http://prdownloads.sourceforge.net/weka/optics_dbScan1.0.5.zip?download\n",
      "ordinalClassClassifier http://prdownloads.sourceforge.net/weka/ordinalClassClassifier1.0.5.zip?download\n",
      "ordinalLearningMethod http://prdownloads.sourceforge.net/weka/ordinalLearningMethod1.0.1.zip?download\n",
      "ordinalStochasticDominance http://prdownloads.sourceforge.net/weka/ordinalStochasticDominance1.0.1.zip?download\n",
      "paceRegression http://prdownloads.sourceforge.net/weka/paceRegression1.0.1.zip?download\n",
      "partialLeastSquares http://prdownloads.sourceforge.net/weka/partialLeastSquares1.0.5.zip?download\n",
      "percentageErrorMetrics http://prdownloads.sourceforge.net/weka/percentageErrorMetrics1.0.1.zip?download\n",
      "predictiveApriori http://prdownloads.sourceforge.net/weka/predictiveApriori1.1.5.zip?download\n",
      "prefuseGraph http://prdownloads.sourceforge.net/weka/prefuseGraph1.0.4.zip?download\n",
      "prefuseGraphViewer http://prdownloads.sourceforge.net/weka/prefuseGraphViewer1.0.4.zip?download\n",
      "prefuseTree http://prdownloads.sourceforge.net/weka/prefuseTree1.0.2.zip?download\n",
      "probabilisticSignificanceAE http://prdownloads.sourceforge.net/weka/probabilisticSignificanceAE1.0.1.zip?download\n",
      "probabilityCalibrationTrees http://prdownloads.sourceforge.net/weka/probabilityCalibrationTrees1.0.0.zip?download\n",
      "raceSearch http://prdownloads.sourceforge.net/weka/raceSearch1.0.1.zip?download\n",
      "racedIncrementalLogitBoost http://prdownloads.sourceforge.net/weka/racedIncrementalLogitBoost1.0.1.zip?download\n",
      "realAdaBoost http://prdownloads.sourceforge.net/weka/realAdaBoost1.0.1.zip?download\n",
      "regressionByDiscretization http://prdownloads.sourceforge.net/weka/regressionByDiscretization1.0.1.zip?download\n",
      "ridor http://prdownloads.sourceforge.net/weka/ridor1.0.1.zip?download\n",
      "rotationForest http://prdownloads.sourceforge.net/weka/rotationForest1.0.2.zip?download\n",
      "sasLoader http://prdownloads.sourceforge.net/weka/sasLoader1.0.0.zip?download\n",
      "scatterPlot3D http://prdownloads.sourceforge.net/weka/scatterPlot3D1.0.7.zip?download\n",
      "scriptingClassifiers http://prdownloads.sourceforge.net/weka/scriptingClassifiers1.1.3.zip?download\n",
      "sequentialInformationalBottleneckClusterer http://prdownloads.sourceforge.net/weka/sequentialInformationalBottleneckClusterer1.0.1.zip?download\n",
      "simpleCART http://prdownloads.sourceforge.net/weka/simpleCART1.0.4.zip?download\n",
      "simpleEducationalLearningSchemes http://prdownloads.sourceforge.net/weka/simpleEducationalLearningSchemes1.0.1.zip?download\n",
      "snowball-stemmers http://prdownloads.sourceforge.net/weka/snowball-stemmers1.0.2.zip?download\n",
      "stackingC http://prdownloads.sourceforge.net/weka/stackingC1.0.3.zip?download\n",
      "streamingUnivariateStats http://downloads.sourceforge.net/project/weka/weka-packages/streamingUnivariateStats1.0.1.zip\n",
      "supervisedAttributeScaling http://prdownloads.sourceforge.net/weka/supervisedAttributeScaling1.0.0.zip?download\n",
      "tabuAndScatterSearch http://prdownloads.sourceforge.net/weka/tabuAndScatterSearch1.0.1.zip?download\n",
      "tertius http://prdownloads.sourceforge.net/weka/tertius1.0.1.zip?download\n",
      "thresholdSelector http://prdownloads.sourceforge.net/weka/thresholdSelector1.0.3.zip?download\n",
      "tigerjython http://prdownloads.sourceforge.net/weka/tigerjython1.0.3.zip?download\n",
      "timeSeriesFilters http://prdownloads.sourceforge.net/weka/timeSeriesFilters1.0.0.zip?download\n",
      "timeseriesForecasting http://prdownloads.sourceforge.net/weka/timeseriesForecasting1.1.25.zip?download\n",
      "userClassifier http://prdownloads.sourceforge.net/weka/userClassifier1.0.3.zip?download\n",
      "vfdr https://github.com/Oowekyala/vfdr-weka/releases/download/v1.0.0/vfdr-1.0.0.zip\n",
      "vines https://github.com/kramerlab/rvines/releases/download/1.0.0/vines-1.0.0.zip\n",
      "votingFeatureIntervals http://prdownloads.sourceforge.net/weka/votingFeatureIntervals1.0.1.zip?download\n",
      "wavelet http://prdownloads.sourceforge.net/weka/wavelet1.0.1.zip?download\n",
      "wekaDeeplearning4j http://prdownloads.sourceforge.net/weka/wekaDeeplearning4j1.0.2.zip?download\n",
      "wekaDeeplearning4j-CPU-linux https://github.com/Waikato/wekaDeeplearning4j/releases/download/v1.4.0/wekaDeeplearning4j-CPU-1.4.0-linux-x86_64.zip\n",
      "wekaDeeplearning4j-CPU-macosx https://github.com/Waikato/wekaDeeplearning4j/releases/download/v1.4.0/wekaDeeplearning4j-CPU-1.4.0-macosx-x86_64.zip\n",
      "wekaDeeplearning4j-CPU-windows https://github.com/Waikato/wekaDeeplearning4j/releases/download/v1.4.0/wekaDeeplearning4j-CPU-1.4.0-windows-x86_64.zip\n",
      "wekaDeeplearning4j-GPU-linux https://github.com/Waikato/wekaDeeplearning4j/releases/download/v1.4.0/wekaDeeplearning4j-GPU-1.4.0-linux-x86_64.zip\n",
      "wekaDeeplearning4j-GPU-macosx https://github.com/Waikato/wekaDeeplearning4j/releases/download/v1.4.0/wekaDeeplearning4j-GPU-1.4.0-macosx-x86_64.zip\n",
      "wekaDeeplearning4j-GPU-windows https://github.com/Waikato/wekaDeeplearning4j/releases/download/v1.4.0/wekaDeeplearning4j-GPU-1.4.0-windows-x86_64.zip\n",
      "wekaPython http://prdownloads.sourceforge.net/weka/wekaPython1.0.6.zip?download\n",
      "wekaServer http://prdownloads.sourceforge.net/weka/wekaServer1.1.8.zip?download\n",
      "winnow http://prdownloads.sourceforge.net/weka/winnow1.0.1.zip?download\n"
     ]
    }
   ],
   "source": [
    "# refresh package cache\n",
    "import weka.core.packages as packages\n",
    "packages.refresh_cache()\n",
    "\n",
    "# list all packages (name and URL)\n",
    "items = packages.all_packages()\n",
    "for item in items:\n",
    "    print(item.name + \" \" + item.url)\n",
    "    \n"
   ]
  },
  {
   "cell_type": "code",
   "execution_count": null,
   "metadata": {
    "collapsed": true
   },
   "outputs": [],
   "source": [
    "packages.install_package('chiSquaredAttributeEval')\n",
    "items = packages.installed_packages()\n",
    "for item in items:\n",
    "    print(item.name + \" \" + item.url)"
   ]
  },
  {
   "cell_type": "code",
   "execution_count": null,
   "metadata": {
    "collapsed": true
   },
   "outputs": [],
   "source": [
    "packages.install_package('SVMAttributeEval')\n",
    "items = packages.installed_packages()\n",
    "for item in items:\n",
    "    print(item.name + \" \" + item.url)"
   ]
  },
  {
   "cell_type": "code",
   "execution_count": null,
   "metadata": {
    "collapsed": true
   },
   "outputs": [],
   "source": []
  },
  {
   "cell_type": "code",
   "execution_count": 6,
   "metadata": {
    "collapsed": true
   },
   "outputs": [],
   "source": [
    "from weka.attribute_selection import ASSearch, ASEvaluation, AttributeSelection\n",
    "chisqr_s = ASSearch(classname=\"weka.attributeSelection.Ranker\", options=[\"-T\", \"-1.7976931348623157E308\", \"-N\", \"20\"])\n",
    "chisqr_e = ASEvaluation(classname=\"weka.attributeSelection.ChiSquaredAttributeEval\")\n",
    "attsel = AttributeSelection()\n",
    "attsel.search(chisqr_s)\n",
    "attsel.evaluator(chisqr_e)\n",
    "attsel.select_attributes(data_train)"
   ]
  },
  {
   "cell_type": "code",
   "execution_count": null,
   "metadata": {
    "collapsed": true
   },
   "outputs": [],
   "source": [
    "# refresh package cache\n",
    "import weka.core.packages as packages\n",
    "packages.refresh_cache()\n",
    "packages.is_installed('chiSquaredAttributeEval')"
   ]
  },
  {
   "cell_type": "code",
   "execution_count": 7,
   "metadata": {},
   "outputs": [
    {
     "name": "stdout",
     "output_type": "stream",
     "text": [
      "# attributes: 20\n",
      "attributes: [30 32 31 29 35 28 34 33 25 24 26 23 20 21 22 18 19 17 16 36  0]\n",
      "result string:\n",
      "\n",
      "\n",
      "=== Attribute Selection on all input data ===\n",
      "\n",
      "Search Method:\n",
      "\tAttribute ranking.\n",
      "\n",
      "Attribute Evaluator (supervised, Class (nominal): 1 class):\n",
      "\tChi-squared Ranking Filter\n",
      "\n",
      "Ranked attributes:\n",
      "1109.4302    31 dna_30\n",
      " 966.0452    33 dna_32\n",
      " 959.4816    32 dna_31\n",
      " 953.336     30 dna_29\n",
      " 795.4188    36 dna_35\n",
      " 631.5054    29 dna_28\n",
      " 488.9084    35 dna_34\n",
      " 435.6823    34 dna_33\n",
      " 356.538     26 dna_25\n",
      " 257.5063    25 dna_24\n",
      " 251.0488    27 dna_26\n",
      " 230.1255    24 dna_23\n",
      " 225.4407    21 dna_20\n",
      " 215.2521    22 dna_21\n",
      " 201.8339    23 dna_22\n",
      " 187.5633    19 dna_18\n",
      " 185.8257    20 dna_19\n",
      " 152.0342    18 dna_17\n",
      " 140.2707    17 dna_16\n",
      " 121.4042    37 dna_36\n",
      "\n",
      "Selected attributes: 31,33,32,30,36,29,35,34,26,25,27,24,21,22,23,19,20,18,17,37 : 20\n",
      "\n"
     ]
    }
   ],
   "source": [
    "print(\"# attributes: \" + str(attsel.number_attributes_selected))\n",
    "print(\"attributes: \" + str(attsel.selected_attributes))\n",
    "print(\"result string:\\n\" + attsel.results_string)"
   ]
  },
  {
   "cell_type": "code",
   "execution_count": null,
   "metadata": {
    "collapsed": true
   },
   "outputs": [],
   "source": []
  }
 ],
 "metadata": {
  "kernelspec": {
   "display_name": "Python 3",
   "language": "python",
   "name": "python3"
  },
  "language_info": {
   "codemirror_mode": {
    "name": "ipython",
    "version": 3
   },
   "file_extension": ".py",
   "mimetype": "text/x-python",
   "name": "python",
   "nbconvert_exporter": "python",
   "pygments_lexer": "ipython3",
   "version": "3.5.2"
  }
 },
 "nbformat": 4,
 "nbformat_minor": 2
}
