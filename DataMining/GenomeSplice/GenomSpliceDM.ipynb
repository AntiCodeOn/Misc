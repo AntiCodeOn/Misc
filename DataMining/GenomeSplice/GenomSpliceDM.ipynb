{
 "cells": [
  {
   "cell_type": "code",
   "execution_count": null,
   "metadata": {
    "collapsed": true
   },
   "outputs": [],
   "source": [
    "import pandas as pd\n",
    "import matplotlib.pyplot as plt\n",
    "from matplotlib.gridspec import GridSpec\n",
    "import seaborn as sns\n",
    "\n",
    "from sklearn import model_selection\n",
    "from sklearn import tree, linear_model, ensemble, neighbors, svm\n",
    "from sklearn import metrics\n",
    "\n",
    "from warnings import filterwarnings\n",
    "\n",
    "%matplotlib inline\n",
    "sns.set_context(\"notebook\")\n",
    "plt.style.use(\"fivethirtyeight\")\n",
    "filterwarnings(\"ignore\")\n",
    "\n"
   ]
  },
  {
   "cell_type": "markdown",
   "metadata": {},
   "source": [
    "We can check basic info about data, like features, NA entries, etc. using pandas library \n",
    "functions"
   ]
  },
  {
   "cell_type": "code",
   "execution_count": null,
   "metadata": {
    "collapsed": true
   },
   "outputs": [],
   "source": [
    "df = pd.read_csv(\"training.csv\")\n",
    "len(df['DNA'])\n",
    "df_obj = df.select_dtypes(['object'])\n",
    "df[df_obj.columns] = df_obj.apply(lambda x: x.str.strip())\n",
    "df.info()\n",
    "df.head()\n",
    "len(df['DNA'][3])\n",
    "\n",
    "df['DNA'].apply(lambda x: pd.Series(list(x))).info()\n"
   ]
  },
  {
   "cell_type": "markdown",
   "metadata": {},
   "source": [
    "After that, we check if there are any undefined entries. We cannot continue analysis until we replace them with some meaningful values (like mean or median of that column)."
   ]
  },
  {
   "cell_type": "code",
   "execution_count": null,
   "metadata": {
    "collapsed": true
   },
   "outputs": [],
   "source": [
    "print(df.isnull().sum())"
   ]
  },
  {
   "cell_type": "markdown",
   "metadata": {},
   "source": [
    "Since there are no null values we can safely proceed. As the next step, we should check the ratios of the classes in the data"
   ]
  },
  {
   "cell_type": "code",
   "execution_count": null,
   "metadata": {
    "collapsed": true
   },
   "outputs": [],
   "source": [
    "print(df['quality'].value_counts())\n",
    "sns.countplot(df['quality'])\n",
    "plt.xlabel(\"Quality\")\n",
    "plt.ylabel(\"Count\")\n",
    "plt.title(\"Class Counts\")\n",
    "set(df['quality'])"
   ]
  },
  {
   "cell_type": "markdown",
   "metadata": {},
   "source": [
    "We see that there are mainly average class wines in the datasets, and very few excellent or poor wines. We group them in three categories: poor if quality is less than five, excellent if quality is greater than 6, else average"
   ]
  },
  {
   "cell_type": "code",
   "execution_count": null,
   "metadata": {
    "collapsed": true
   },
   "outputs": [],
   "source": [
    "poor = df['quality'] < 5\n",
    "excellent = df['quality'] > 6\n",
    "average = ~(poor | excellent)\n",
    "df_orig = df.copy()"
   ]
  },
  {
   "cell_type": "code",
   "execution_count": null,
   "metadata": {
    "collapsed": true
   },
   "outputs": [],
   "source": [
    "df = df_orig.copy()\n",
    "df.loc[poor, 'quality'] = 0\n",
    "df.loc[average, 'quality'] = 1\n",
    "df.loc[excellent, 'quality'] = 2\n",
    "sns.countplot(df['quality'])\n",
    "plt.xlabel(\"Quality\")\n",
    "plt.ylabel(\"Count\")\n",
    "plt.title(\"Class Counts\")\n",
    "set(df['quality'])\n",
    "print(df['quality'].value_counts())"
   ]
  },
  {
   "cell_type": "code",
   "execution_count": null,
   "metadata": {
    "collapsed": true
   },
   "outputs": [],
   "source": [
    "df.head()\n"
   ]
  },
  {
   "cell_type": "code",
   "execution_count": null,
   "metadata": {
    "collapsed": true
   },
   "outputs": [],
   "source": [
    "X_train, X_test, y_train, y_test = model_selection.train_test_split(\n",
    "    df.drop([\"quality\"], axis=1),\n",
    "    df[\"quality\"],\n",
    "    train_size = 0.8,\n",
    "    random_state = 42) # What is the meaning of life"
   ]
  },
  {
   "cell_type": "code",
   "execution_count": null,
   "metadata": {
    "collapsed": true
   },
   "outputs": [],
   "source": [
    "# Fit a decision tree on all training data:\n",
    "tree = tree.DecisionTreeRegressor()\n",
    "tree = tree.fit(X_train, y_train)"
   ]
  },
  {
   "cell_type": "code",
   "execution_count": null,
   "metadata": {
    "collapsed": true
   },
   "outputs": [],
   "source": [
    "print(\"sklearn decision tree, training error: %f\" %\n",
    "      metrics.mean_absolute_error(y_train, tree.predict(X_train)))\n",
    "print(\"sklearn decision tree, testing error: %f\" %\n",
    "      metrics.mean_absolute_error(y_test, tree.predict(X_test)))\n"
   ]
  },
  {
   "cell_type": "code",
   "execution_count": null,
   "metadata": {
    "collapsed": true
   },
   "outputs": [],
   "source": [
    "# Fit linear regression on all training data:\n",
    "lr = linear_model.LinearRegression()\n",
    "lr.fit(X_train, y_train)\n",
    "\n",
    "# Compute training error and testing error, this time on the linear\n",
    "# regression model:\n",
    "print(\"sklearn linear regression, training error: %f\" %\n",
    "      metrics.mean_absolute_error(y_train, lr.predict(X_train)))\n",
    "print(\"sklearn linear regression, testing error: %f\" %\n",
    "      metrics.mean_absolute_error(y_test, lr.predict(X_test)))"
   ]
  },
  {
   "cell_type": "code",
   "execution_count": null,
   "metadata": {
    "collapsed": true
   },
   "outputs": [],
   "source": [
    "knn = neighbors.KNeighborsClassifier()\n",
    "knn.fit(X_train, y_train)\n",
    "\n",
    "# Compute training error and testing error, this time on the KNN\n",
    "# classifier model:\n",
    "print(\"sklearn linear regression, training error: %f\" %\n",
    "      metrics.mean_absolute_error(y_train, knn.predict(X_train)))\n",
    "print(\"sklearn linear regression, testing error: %f\" %\n",
    "      metrics.mean_absolute_error(y_test, knn.predict(X_test)))"
   ]
  },
  {
   "cell_type": "code",
   "execution_count": null,
   "metadata": {
    "collapsed": true
   },
   "outputs": [],
   "source": [
    "svc = svm.SVC(C=0.01, gamma=0.1, kernel=\"poly\", degree=5, coef0=10, probability=True)\n",
    "svc.fit(X_train, y_train)\n",
    "\n",
    "# Compute training error and testing error, this time on the Support Vector Machine\n",
    "# classifier model:\n",
    "print(\"sklearn linear regression, training error: %f\" %\n",
    "      metrics.mean_absolute_error(y_train,svc.predict(X_train)))\n",
    "print(\"sklearn linear regression, testing error: %f\" %\n",
    "      metrics.mean_absolute_error(y_test, svc.predict(X_test)))"
   ]
  },
  {
   "cell_type": "code",
   "execution_count": null,
   "metadata": {
    "collapsed": true
   },
   "outputs": [],
   "source": []
  }
 ],
 "metadata": {
  "kernelspec": {
   "display_name": "Python 3",
   "language": "python",
   "name": "python3"
  },
  "language_info": {
   "codemirror_mode": {
    "name": "ipython",
    "version": 3
   },
   "file_extension": ".py",
   "mimetype": "text/x-python",
   "name": "python",
   "nbconvert_exporter": "python",
   "pygments_lexer": "ipython3",
   "version": "3.5.2"
  }
 },
 "nbformat": 4,
 "nbformat_minor": 2
}
